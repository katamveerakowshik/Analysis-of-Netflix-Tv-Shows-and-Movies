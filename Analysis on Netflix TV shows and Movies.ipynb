{
 "cells": [
  {
   "cell_type": "markdown",
   "metadata": {},
   "source": [
    "# Analysis on Netflix Movies & TV Shows\n",
    "\n",
    "This is an Exploratory data analysis on Netflix movies and tv shows. \n",
    "\n",
    "Short description about Netflix,\n",
    "Netflix is an American subscription streaming service and production company. Launched on August 29, 1997, it offers a film and television series library through distribution deals as well as its own productions, known as Netflix Originals. It is the world's leading streaming entertainment service with 222 million paid memberships in over 190 countries enjoying TV series, documentaries,.. etc"
   ]
  },
  {
   "cell_type": "markdown",
   "metadata": {},
   "source": [
    "## Downloading the Dataset\n",
    "\n",
    "Initially, we found out the data on kaggle (https://www.kaggle.com/datasets?fileType=csv) and importing the libraries which will be used in further analysis. We passed the url of data into a variable and downloaded it. \n",
    "Exclusively, you can find out the data set at https://www.kaggle.com/datasets/victorsoeiro/netflix-tv-shows-and-movies.\n",
    "\n",
    "We can download and upload dataset manually but we are using opendatasets helper library to download file."
   ]
  },
  {
   "cell_type": "code",
   "execution_count": 1,
   "metadata": {},
   "outputs": [],
   "source": [
    "!pip install jovian opendatasets --upgrade --quiet"
   ]
  },
  {
   "cell_type": "markdown",
   "metadata": {},
   "source": [
    "Let's begin by downloading the data, and listing the files within the dataset."
   ]
  },
  {
   "cell_type": "code",
   "execution_count": 2,
   "metadata": {},
   "outputs": [],
   "source": [
    "import jovian\n",
    "import pandas as pd\n",
    "import numpy as np\n",
    "import matplotlib.pyplot as plt\n",
    "import seaborn as sns\n",
    "%matplotlib inline\n",
    "import matplotlib"
   ]
  },
  {
   "cell_type": "code",
   "execution_count": 3,
   "metadata": {},
   "outputs": [],
   "source": [
    "# Change this\n",
    "dataset_url = 'https://www.kaggle.com/datasets/victorsoeiro/netflix-tv-shows-and-movies' "
   ]
  },
  {
   "cell_type": "code",
   "execution_count": 4,
   "metadata": {},
   "outputs": [
    {
     "ename": "NameError",
     "evalue": "name 'feee545895ec36112835b90836fea6f2' is not defined",
     "output_type": "error",
     "traceback": [
      "\u001b[0;31m---------------------------------------------------------------------------\u001b[0m",
      "\u001b[0;31mNameError\u001b[0m                                 Traceback (most recent call last)",
      "\u001b[0;32m/tmp/ipykernel_35/1888949973.py\u001b[0m in \u001b[0;36m<module>\u001b[0;34m\u001b[0m\n\u001b[0;32m----> 1\u001b[0;31m \u001b[0mkey\u001b[0m \u001b[0;34m=\u001b[0m \u001b[0mfeee545895ec36112835b90836fea6f2\u001b[0m\u001b[0;34m\u001b[0m\u001b[0;34m\u001b[0m\u001b[0m\n\u001b[0m",
      "\u001b[0;31mNameError\u001b[0m: name 'feee545895ec36112835b90836fea6f2' is not defined"
     ]
    }
   ],
   "source": [
    "key = feee545895ec36112835b90836fea6f2"
   ]
  },
  {
   "cell_type": "code",
   "execution_count": 6,
   "metadata": {},
   "outputs": [
    {
     "name": "stdout",
     "output_type": "stream",
     "text": [
      "Skipping, found downloaded files in \"./netflix-tv-shows-and-movies\" (use force=True to force download)\n"
     ]
    }
   ],
   "source": [
    "import opendatasets as od\n",
    "od.download(dataset_url)"
   ]
  },
  {
   "cell_type": "markdown",
   "metadata": {},
   "source": [
    "Now the dataset has been downloaded and extracted."
   ]
  },
  {
   "cell_type": "code",
   "execution_count": 7,
   "metadata": {},
   "outputs": [],
   "source": [
    "# Change this\n",
    "data_dir = './netflix-tv-shows-and-movies'"
   ]
  },
  {
   "cell_type": "code",
   "execution_count": 8,
   "metadata": {},
   "outputs": [
    {
     "data": {
      "text/plain": [
       "['credits.csv', 'titles.csv']"
      ]
     },
     "execution_count": 8,
     "metadata": {},
     "output_type": "execute_result"
    }
   ],
   "source": [
    "import os\n",
    "os.listdir(data_dir)"
   ]
  },
  {
   "cell_type": "markdown",
   "metadata": {},
   "source": [
    "You can go through the downloaded files. You can find it using File--> Open.\n",
    "It has, `credits.csv`, `titles.csv` files. "
   ]
  },
  {
   "cell_type": "markdown",
   "metadata": {},
   "source": [
    "Let us save and upload our work to Jovian before continuing."
   ]
  },
  {
   "cell_type": "code",
   "execution_count": 9,
   "metadata": {},
   "outputs": [],
   "source": [
    "project_name = \"netflix-tv-shows-and-movies\" "
   ]
  },
  {
   "cell_type": "code",
   "execution_count": 10,
   "metadata": {},
   "outputs": [],
   "source": [
    "!pip install jovian --upgrade -q"
   ]
  },
  {
   "cell_type": "code",
   "execution_count": 11,
   "metadata": {},
   "outputs": [],
   "source": [
    "import jovian"
   ]
  },
  {
   "cell_type": "code",
   "execution_count": 12,
   "metadata": {},
   "outputs": [
    {
     "data": {
      "application/javascript": [
       "window.require && require([\"base/js/namespace\"],function(Jupyter){Jupyter.notebook.save_checkpoint()})"
      ],
      "text/plain": [
       "<IPython.core.display.Javascript object>"
      ]
     },
     "metadata": {},
     "output_type": "display_data"
    },
    {
     "name": "stdout",
     "output_type": "stream",
     "text": [
      "[jovian] Updating notebook \"siva-muram/netflix-tv-shows-and-movies\" on https://jovian.ai\u001b[0m\n",
      "[jovian] Committed successfully! https://jovian.ai/siva-muram/netflix-tv-shows-and-movies\u001b[0m\n"
     ]
    },
    {
     "data": {
      "text/plain": [
       "'https://jovian.ai/siva-muram/netflix-tv-shows-and-movies'"
      ]
     },
     "execution_count": 12,
     "metadata": {},
     "output_type": "execute_result"
    }
   ],
   "source": [
    "jovian.commit(project=project_name)"
   ]
  },
  {
   "cell_type": "markdown",
   "metadata": {},
   "source": [
    "## Data Preparation and Cleaning\n",
    "\n",
    "Now we are ready to load the dataset. We will do this using the standard `read_csv` command from Pandas.\n",
    "We will be finding out the number of rows and columns the dataset has, handling the missing values."
   ]
  },
  {
   "cell_type": "code",
   "execution_count": 13,
   "metadata": {},
   "outputs": [],
   "source": [
    "import pandas as pd"
   ]
  },
  {
   "cell_type": "code",
   "execution_count": 14,
   "metadata": {},
   "outputs": [
    {
     "data": {
      "text/html": [
       "<div>\n",
       "<style scoped>\n",
       "    .dataframe tbody tr th:only-of-type {\n",
       "        vertical-align: middle;\n",
       "    }\n",
       "\n",
       "    .dataframe tbody tr th {\n",
       "        vertical-align: top;\n",
       "    }\n",
       "\n",
       "    .dataframe thead th {\n",
       "        text-align: right;\n",
       "    }\n",
       "</style>\n",
       "<table border=\"1\" class=\"dataframe\">\n",
       "  <thead>\n",
       "    <tr style=\"text-align: right;\">\n",
       "      <th></th>\n",
       "      <th>id</th>\n",
       "      <th>title</th>\n",
       "      <th>type</th>\n",
       "      <th>description</th>\n",
       "      <th>release_year</th>\n",
       "      <th>age_certification</th>\n",
       "      <th>runtime</th>\n",
       "      <th>genres</th>\n",
       "      <th>production_countries</th>\n",
       "      <th>seasons</th>\n",
       "      <th>imdb_id</th>\n",
       "      <th>imdb_score</th>\n",
       "      <th>imdb_votes</th>\n",
       "      <th>tmdb_popularity</th>\n",
       "      <th>tmdb_score</th>\n",
       "    </tr>\n",
       "  </thead>\n",
       "  <tbody>\n",
       "    <tr>\n",
       "      <th>0</th>\n",
       "      <td>ts300399</td>\n",
       "      <td>Five Came Back: The Reference Films</td>\n",
       "      <td>SHOW</td>\n",
       "      <td>This collection includes 12 World War II-era p...</td>\n",
       "      <td>1945</td>\n",
       "      <td>TV-MA</td>\n",
       "      <td>48</td>\n",
       "      <td>['documentation']</td>\n",
       "      <td>['US']</td>\n",
       "      <td>1.0</td>\n",
       "      <td>NaN</td>\n",
       "      <td>NaN</td>\n",
       "      <td>NaN</td>\n",
       "      <td>0.600</td>\n",
       "      <td>NaN</td>\n",
       "    </tr>\n",
       "    <tr>\n",
       "      <th>1</th>\n",
       "      <td>tm84618</td>\n",
       "      <td>Taxi Driver</td>\n",
       "      <td>MOVIE</td>\n",
       "      <td>A mentally unstable Vietnam War veteran works ...</td>\n",
       "      <td>1976</td>\n",
       "      <td>R</td>\n",
       "      <td>113</td>\n",
       "      <td>['crime', 'drama']</td>\n",
       "      <td>['US']</td>\n",
       "      <td>NaN</td>\n",
       "      <td>tt0075314</td>\n",
       "      <td>8.3</td>\n",
       "      <td>795222.0</td>\n",
       "      <td>27.612</td>\n",
       "      <td>8.2</td>\n",
       "    </tr>\n",
       "    <tr>\n",
       "      <th>2</th>\n",
       "      <td>tm127384</td>\n",
       "      <td>Monty Python and the Holy Grail</td>\n",
       "      <td>MOVIE</td>\n",
       "      <td>King Arthur, accompanied by his squire, recrui...</td>\n",
       "      <td>1975</td>\n",
       "      <td>PG</td>\n",
       "      <td>91</td>\n",
       "      <td>['comedy', 'fantasy']</td>\n",
       "      <td>['GB']</td>\n",
       "      <td>NaN</td>\n",
       "      <td>tt0071853</td>\n",
       "      <td>8.2</td>\n",
       "      <td>530877.0</td>\n",
       "      <td>18.216</td>\n",
       "      <td>7.8</td>\n",
       "    </tr>\n",
       "    <tr>\n",
       "      <th>3</th>\n",
       "      <td>tm70993</td>\n",
       "      <td>Life of Brian</td>\n",
       "      <td>MOVIE</td>\n",
       "      <td>Brian Cohen is an average young Jewish man, bu...</td>\n",
       "      <td>1979</td>\n",
       "      <td>R</td>\n",
       "      <td>94</td>\n",
       "      <td>['comedy']</td>\n",
       "      <td>['GB']</td>\n",
       "      <td>NaN</td>\n",
       "      <td>tt0079470</td>\n",
       "      <td>8.0</td>\n",
       "      <td>392419.0</td>\n",
       "      <td>17.505</td>\n",
       "      <td>7.8</td>\n",
       "    </tr>\n",
       "    <tr>\n",
       "      <th>4</th>\n",
       "      <td>tm190788</td>\n",
       "      <td>The Exorcist</td>\n",
       "      <td>MOVIE</td>\n",
       "      <td>12-year-old Regan MacNeil begins to adapt an e...</td>\n",
       "      <td>1973</td>\n",
       "      <td>R</td>\n",
       "      <td>133</td>\n",
       "      <td>['horror']</td>\n",
       "      <td>['US']</td>\n",
       "      <td>NaN</td>\n",
       "      <td>tt0070047</td>\n",
       "      <td>8.1</td>\n",
       "      <td>391942.0</td>\n",
       "      <td>95.337</td>\n",
       "      <td>7.7</td>\n",
       "    </tr>\n",
       "    <tr>\n",
       "      <th>...</th>\n",
       "      <td>...</td>\n",
       "      <td>...</td>\n",
       "      <td>...</td>\n",
       "      <td>...</td>\n",
       "      <td>...</td>\n",
       "      <td>...</td>\n",
       "      <td>...</td>\n",
       "      <td>...</td>\n",
       "      <td>...</td>\n",
       "      <td>...</td>\n",
       "      <td>...</td>\n",
       "      <td>...</td>\n",
       "      <td>...</td>\n",
       "      <td>...</td>\n",
       "      <td>...</td>\n",
       "    </tr>\n",
       "    <tr>\n",
       "      <th>5801</th>\n",
       "      <td>tm1014599</td>\n",
       "      <td>Fine Wine</td>\n",
       "      <td>MOVIE</td>\n",
       "      <td>A beautiful love story that can happen between...</td>\n",
       "      <td>2021</td>\n",
       "      <td>NaN</td>\n",
       "      <td>100</td>\n",
       "      <td>['romance', 'drama']</td>\n",
       "      <td>['NG']</td>\n",
       "      <td>NaN</td>\n",
       "      <td>tt13857480</td>\n",
       "      <td>6.9</td>\n",
       "      <td>39.0</td>\n",
       "      <td>0.966</td>\n",
       "      <td>NaN</td>\n",
       "    </tr>\n",
       "    <tr>\n",
       "      <th>5802</th>\n",
       "      <td>tm1108171</td>\n",
       "      <td>Edis Starlight</td>\n",
       "      <td>MOVIE</td>\n",
       "      <td>Rising star Edis's career journey with ups and...</td>\n",
       "      <td>2021</td>\n",
       "      <td>NaN</td>\n",
       "      <td>74</td>\n",
       "      <td>['music', 'documentation']</td>\n",
       "      <td>[]</td>\n",
       "      <td>NaN</td>\n",
       "      <td>NaN</td>\n",
       "      <td>NaN</td>\n",
       "      <td>NaN</td>\n",
       "      <td>1.036</td>\n",
       "      <td>8.5</td>\n",
       "    </tr>\n",
       "    <tr>\n",
       "      <th>5803</th>\n",
       "      <td>tm1045018</td>\n",
       "      <td>Clash</td>\n",
       "      <td>MOVIE</td>\n",
       "      <td>A man from Nigeria returns to his family in Ca...</td>\n",
       "      <td>2021</td>\n",
       "      <td>NaN</td>\n",
       "      <td>88</td>\n",
       "      <td>['family', 'drama']</td>\n",
       "      <td>['NG', 'CA']</td>\n",
       "      <td>NaN</td>\n",
       "      <td>tt14620732</td>\n",
       "      <td>6.5</td>\n",
       "      <td>32.0</td>\n",
       "      <td>0.709</td>\n",
       "      <td>NaN</td>\n",
       "    </tr>\n",
       "    <tr>\n",
       "      <th>5804</th>\n",
       "      <td>tm1098060</td>\n",
       "      <td>Shadow Parties</td>\n",
       "      <td>MOVIE</td>\n",
       "      <td>A family faces destruction in a long-running c...</td>\n",
       "      <td>2021</td>\n",
       "      <td>NaN</td>\n",
       "      <td>116</td>\n",
       "      <td>['action', 'thriller']</td>\n",
       "      <td>[]</td>\n",
       "      <td>NaN</td>\n",
       "      <td>tt10168094</td>\n",
       "      <td>6.2</td>\n",
       "      <td>9.0</td>\n",
       "      <td>2.186</td>\n",
       "      <td>NaN</td>\n",
       "    </tr>\n",
       "    <tr>\n",
       "      <th>5805</th>\n",
       "      <td>ts271048</td>\n",
       "      <td>Mighty Little Bheem: Kite Festival</td>\n",
       "      <td>SHOW</td>\n",
       "      <td>With winter behind them, Bheem and his townspe...</td>\n",
       "      <td>2021</td>\n",
       "      <td>NaN</td>\n",
       "      <td>0</td>\n",
       "      <td>['family', 'comedy', 'animation']</td>\n",
       "      <td>[]</td>\n",
       "      <td>1.0</td>\n",
       "      <td>tt13711094</td>\n",
       "      <td>8.8</td>\n",
       "      <td>16.0</td>\n",
       "      <td>0.979</td>\n",
       "      <td>10.0</td>\n",
       "    </tr>\n",
       "  </tbody>\n",
       "</table>\n",
       "<p>5806 rows × 15 columns</p>\n",
       "</div>"
      ],
      "text/plain": [
       "             id                                title   type  \\\n",
       "0      ts300399  Five Came Back: The Reference Films   SHOW   \n",
       "1       tm84618                          Taxi Driver  MOVIE   \n",
       "2      tm127384      Monty Python and the Holy Grail  MOVIE   \n",
       "3       tm70993                        Life of Brian  MOVIE   \n",
       "4      tm190788                         The Exorcist  MOVIE   \n",
       "...         ...                                  ...    ...   \n",
       "5801  tm1014599                            Fine Wine  MOVIE   \n",
       "5802  tm1108171                       Edis Starlight  MOVIE   \n",
       "5803  tm1045018                                Clash  MOVIE   \n",
       "5804  tm1098060                       Shadow Parties  MOVIE   \n",
       "5805   ts271048   Mighty Little Bheem: Kite Festival   SHOW   \n",
       "\n",
       "                                            description  release_year  \\\n",
       "0     This collection includes 12 World War II-era p...          1945   \n",
       "1     A mentally unstable Vietnam War veteran works ...          1976   \n",
       "2     King Arthur, accompanied by his squire, recrui...          1975   \n",
       "3     Brian Cohen is an average young Jewish man, bu...          1979   \n",
       "4     12-year-old Regan MacNeil begins to adapt an e...          1973   \n",
       "...                                                 ...           ...   \n",
       "5801  A beautiful love story that can happen between...          2021   \n",
       "5802  Rising star Edis's career journey with ups and...          2021   \n",
       "5803  A man from Nigeria returns to his family in Ca...          2021   \n",
       "5804  A family faces destruction in a long-running c...          2021   \n",
       "5805  With winter behind them, Bheem and his townspe...          2021   \n",
       "\n",
       "     age_certification  runtime                             genres  \\\n",
       "0                TV-MA       48                  ['documentation']   \n",
       "1                    R      113                 ['crime', 'drama']   \n",
       "2                   PG       91              ['comedy', 'fantasy']   \n",
       "3                    R       94                         ['comedy']   \n",
       "4                    R      133                         ['horror']   \n",
       "...                ...      ...                                ...   \n",
       "5801               NaN      100               ['romance', 'drama']   \n",
       "5802               NaN       74         ['music', 'documentation']   \n",
       "5803               NaN       88                ['family', 'drama']   \n",
       "5804               NaN      116             ['action', 'thriller']   \n",
       "5805               NaN        0  ['family', 'comedy', 'animation']   \n",
       "\n",
       "     production_countries  seasons     imdb_id  imdb_score  imdb_votes  \\\n",
       "0                  ['US']      1.0         NaN         NaN         NaN   \n",
       "1                  ['US']      NaN   tt0075314         8.3    795222.0   \n",
       "2                  ['GB']      NaN   tt0071853         8.2    530877.0   \n",
       "3                  ['GB']      NaN   tt0079470         8.0    392419.0   \n",
       "4                  ['US']      NaN   tt0070047         8.1    391942.0   \n",
       "...                   ...      ...         ...         ...         ...   \n",
       "5801               ['NG']      NaN  tt13857480         6.9        39.0   \n",
       "5802                   []      NaN         NaN         NaN         NaN   \n",
       "5803         ['NG', 'CA']      NaN  tt14620732         6.5        32.0   \n",
       "5804                   []      NaN  tt10168094         6.2         9.0   \n",
       "5805                   []      1.0  tt13711094         8.8        16.0   \n",
       "\n",
       "      tmdb_popularity  tmdb_score  \n",
       "0               0.600         NaN  \n",
       "1              27.612         8.2  \n",
       "2              18.216         7.8  \n",
       "3              17.505         7.8  \n",
       "4              95.337         7.7  \n",
       "...               ...         ...  \n",
       "5801            0.966         NaN  \n",
       "5802            1.036         8.5  \n",
       "5803            0.709         NaN  \n",
       "5804            2.186         NaN  \n",
       "5805            0.979        10.0  \n",
       "\n",
       "[5806 rows x 15 columns]"
      ]
     },
     "execution_count": 14,
     "metadata": {},
     "output_type": "execute_result"
    }
   ],
   "source": [
    "raw_titles_df = pd.read_csv(data_dir +'/titles.csv')\n",
    "raw_titles_df"
   ]
  },
  {
   "cell_type": "markdown",
   "metadata": {},
   "source": [
    "we don't require Id, imdb id of a amovie or show we intend to drop them for making the data clear and concise. \n",
    "\n",
    "New data set is as follows:"
   ]
  },
  {
   "cell_type": "code",
   "execution_count": 15,
   "metadata": {},
   "outputs": [
    {
     "data": {
      "text/html": [
       "<div>\n",
       "<style scoped>\n",
       "    .dataframe tbody tr th:only-of-type {\n",
       "        vertical-align: middle;\n",
       "    }\n",
       "\n",
       "    .dataframe tbody tr th {\n",
       "        vertical-align: top;\n",
       "    }\n",
       "\n",
       "    .dataframe thead th {\n",
       "        text-align: right;\n",
       "    }\n",
       "</style>\n",
       "<table border=\"1\" class=\"dataframe\">\n",
       "  <thead>\n",
       "    <tr style=\"text-align: right;\">\n",
       "      <th></th>\n",
       "      <th>title</th>\n",
       "      <th>type</th>\n",
       "      <th>description</th>\n",
       "      <th>release_year</th>\n",
       "      <th>age_certification</th>\n",
       "      <th>runtime</th>\n",
       "      <th>genres</th>\n",
       "      <th>production_countries</th>\n",
       "      <th>seasons</th>\n",
       "      <th>imdb_score</th>\n",
       "      <th>imdb_votes</th>\n",
       "      <th>tmdb_popularity</th>\n",
       "      <th>tmdb_score</th>\n",
       "    </tr>\n",
       "  </thead>\n",
       "  <tbody>\n",
       "    <tr>\n",
       "      <th>0</th>\n",
       "      <td>Five Came Back: The Reference Films</td>\n",
       "      <td>SHOW</td>\n",
       "      <td>This collection includes 12 World War II-era p...</td>\n",
       "      <td>1945</td>\n",
       "      <td>TV-MA</td>\n",
       "      <td>48</td>\n",
       "      <td>['documentation']</td>\n",
       "      <td>['US']</td>\n",
       "      <td>1.0</td>\n",
       "      <td>NaN</td>\n",
       "      <td>NaN</td>\n",
       "      <td>0.600</td>\n",
       "      <td>NaN</td>\n",
       "    </tr>\n",
       "    <tr>\n",
       "      <th>1</th>\n",
       "      <td>Taxi Driver</td>\n",
       "      <td>MOVIE</td>\n",
       "      <td>A mentally unstable Vietnam War veteran works ...</td>\n",
       "      <td>1976</td>\n",
       "      <td>R</td>\n",
       "      <td>113</td>\n",
       "      <td>['crime', 'drama']</td>\n",
       "      <td>['US']</td>\n",
       "      <td>NaN</td>\n",
       "      <td>8.3</td>\n",
       "      <td>795222.0</td>\n",
       "      <td>27.612</td>\n",
       "      <td>8.2</td>\n",
       "    </tr>\n",
       "    <tr>\n",
       "      <th>2</th>\n",
       "      <td>Monty Python and the Holy Grail</td>\n",
       "      <td>MOVIE</td>\n",
       "      <td>King Arthur, accompanied by his squire, recrui...</td>\n",
       "      <td>1975</td>\n",
       "      <td>PG</td>\n",
       "      <td>91</td>\n",
       "      <td>['comedy', 'fantasy']</td>\n",
       "      <td>['GB']</td>\n",
       "      <td>NaN</td>\n",
       "      <td>8.2</td>\n",
       "      <td>530877.0</td>\n",
       "      <td>18.216</td>\n",
       "      <td>7.8</td>\n",
       "    </tr>\n",
       "    <tr>\n",
       "      <th>3</th>\n",
       "      <td>Life of Brian</td>\n",
       "      <td>MOVIE</td>\n",
       "      <td>Brian Cohen is an average young Jewish man, bu...</td>\n",
       "      <td>1979</td>\n",
       "      <td>R</td>\n",
       "      <td>94</td>\n",
       "      <td>['comedy']</td>\n",
       "      <td>['GB']</td>\n",
       "      <td>NaN</td>\n",
       "      <td>8.0</td>\n",
       "      <td>392419.0</td>\n",
       "      <td>17.505</td>\n",
       "      <td>7.8</td>\n",
       "    </tr>\n",
       "    <tr>\n",
       "      <th>4</th>\n",
       "      <td>The Exorcist</td>\n",
       "      <td>MOVIE</td>\n",
       "      <td>12-year-old Regan MacNeil begins to adapt an e...</td>\n",
       "      <td>1973</td>\n",
       "      <td>R</td>\n",
       "      <td>133</td>\n",
       "      <td>['horror']</td>\n",
       "      <td>['US']</td>\n",
       "      <td>NaN</td>\n",
       "      <td>8.1</td>\n",
       "      <td>391942.0</td>\n",
       "      <td>95.337</td>\n",
       "      <td>7.7</td>\n",
       "    </tr>\n",
       "    <tr>\n",
       "      <th>...</th>\n",
       "      <td>...</td>\n",
       "      <td>...</td>\n",
       "      <td>...</td>\n",
       "      <td>...</td>\n",
       "      <td>...</td>\n",
       "      <td>...</td>\n",
       "      <td>...</td>\n",
       "      <td>...</td>\n",
       "      <td>...</td>\n",
       "      <td>...</td>\n",
       "      <td>...</td>\n",
       "      <td>...</td>\n",
       "      <td>...</td>\n",
       "    </tr>\n",
       "    <tr>\n",
       "      <th>5801</th>\n",
       "      <td>Fine Wine</td>\n",
       "      <td>MOVIE</td>\n",
       "      <td>A beautiful love story that can happen between...</td>\n",
       "      <td>2021</td>\n",
       "      <td>NaN</td>\n",
       "      <td>100</td>\n",
       "      <td>['romance', 'drama']</td>\n",
       "      <td>['NG']</td>\n",
       "      <td>NaN</td>\n",
       "      <td>6.9</td>\n",
       "      <td>39.0</td>\n",
       "      <td>0.966</td>\n",
       "      <td>NaN</td>\n",
       "    </tr>\n",
       "    <tr>\n",
       "      <th>5802</th>\n",
       "      <td>Edis Starlight</td>\n",
       "      <td>MOVIE</td>\n",
       "      <td>Rising star Edis's career journey with ups and...</td>\n",
       "      <td>2021</td>\n",
       "      <td>NaN</td>\n",
       "      <td>74</td>\n",
       "      <td>['music', 'documentation']</td>\n",
       "      <td>[]</td>\n",
       "      <td>NaN</td>\n",
       "      <td>NaN</td>\n",
       "      <td>NaN</td>\n",
       "      <td>1.036</td>\n",
       "      <td>8.5</td>\n",
       "    </tr>\n",
       "    <tr>\n",
       "      <th>5803</th>\n",
       "      <td>Clash</td>\n",
       "      <td>MOVIE</td>\n",
       "      <td>A man from Nigeria returns to his family in Ca...</td>\n",
       "      <td>2021</td>\n",
       "      <td>NaN</td>\n",
       "      <td>88</td>\n",
       "      <td>['family', 'drama']</td>\n",
       "      <td>['NG', 'CA']</td>\n",
       "      <td>NaN</td>\n",
       "      <td>6.5</td>\n",
       "      <td>32.0</td>\n",
       "      <td>0.709</td>\n",
       "      <td>NaN</td>\n",
       "    </tr>\n",
       "    <tr>\n",
       "      <th>5804</th>\n",
       "      <td>Shadow Parties</td>\n",
       "      <td>MOVIE</td>\n",
       "      <td>A family faces destruction in a long-running c...</td>\n",
       "      <td>2021</td>\n",
       "      <td>NaN</td>\n",
       "      <td>116</td>\n",
       "      <td>['action', 'thriller']</td>\n",
       "      <td>[]</td>\n",
       "      <td>NaN</td>\n",
       "      <td>6.2</td>\n",
       "      <td>9.0</td>\n",
       "      <td>2.186</td>\n",
       "      <td>NaN</td>\n",
       "    </tr>\n",
       "    <tr>\n",
       "      <th>5805</th>\n",
       "      <td>Mighty Little Bheem: Kite Festival</td>\n",
       "      <td>SHOW</td>\n",
       "      <td>With winter behind them, Bheem and his townspe...</td>\n",
       "      <td>2021</td>\n",
       "      <td>NaN</td>\n",
       "      <td>0</td>\n",
       "      <td>['family', 'comedy', 'animation']</td>\n",
       "      <td>[]</td>\n",
       "      <td>1.0</td>\n",
       "      <td>8.8</td>\n",
       "      <td>16.0</td>\n",
       "      <td>0.979</td>\n",
       "      <td>10.0</td>\n",
       "    </tr>\n",
       "  </tbody>\n",
       "</table>\n",
       "<p>5806 rows × 13 columns</p>\n",
       "</div>"
      ],
      "text/plain": [
       "                                    title   type  \\\n",
       "0     Five Came Back: The Reference Films   SHOW   \n",
       "1                             Taxi Driver  MOVIE   \n",
       "2         Monty Python and the Holy Grail  MOVIE   \n",
       "3                           Life of Brian  MOVIE   \n",
       "4                            The Exorcist  MOVIE   \n",
       "...                                   ...    ...   \n",
       "5801                            Fine Wine  MOVIE   \n",
       "5802                       Edis Starlight  MOVIE   \n",
       "5803                                Clash  MOVIE   \n",
       "5804                       Shadow Parties  MOVIE   \n",
       "5805   Mighty Little Bheem: Kite Festival   SHOW   \n",
       "\n",
       "                                            description  release_year  \\\n",
       "0     This collection includes 12 World War II-era p...          1945   \n",
       "1     A mentally unstable Vietnam War veteran works ...          1976   \n",
       "2     King Arthur, accompanied by his squire, recrui...          1975   \n",
       "3     Brian Cohen is an average young Jewish man, bu...          1979   \n",
       "4     12-year-old Regan MacNeil begins to adapt an e...          1973   \n",
       "...                                                 ...           ...   \n",
       "5801  A beautiful love story that can happen between...          2021   \n",
       "5802  Rising star Edis's career journey with ups and...          2021   \n",
       "5803  A man from Nigeria returns to his family in Ca...          2021   \n",
       "5804  A family faces destruction in a long-running c...          2021   \n",
       "5805  With winter behind them, Bheem and his townspe...          2021   \n",
       "\n",
       "     age_certification  runtime                             genres  \\\n",
       "0                TV-MA       48                  ['documentation']   \n",
       "1                    R      113                 ['crime', 'drama']   \n",
       "2                   PG       91              ['comedy', 'fantasy']   \n",
       "3                    R       94                         ['comedy']   \n",
       "4                    R      133                         ['horror']   \n",
       "...                ...      ...                                ...   \n",
       "5801               NaN      100               ['romance', 'drama']   \n",
       "5802               NaN       74         ['music', 'documentation']   \n",
       "5803               NaN       88                ['family', 'drama']   \n",
       "5804               NaN      116             ['action', 'thriller']   \n",
       "5805               NaN        0  ['family', 'comedy', 'animation']   \n",
       "\n",
       "     production_countries  seasons  imdb_score  imdb_votes  tmdb_popularity  \\\n",
       "0                  ['US']      1.0         NaN         NaN            0.600   \n",
       "1                  ['US']      NaN         8.3    795222.0           27.612   \n",
       "2                  ['GB']      NaN         8.2    530877.0           18.216   \n",
       "3                  ['GB']      NaN         8.0    392419.0           17.505   \n",
       "4                  ['US']      NaN         8.1    391942.0           95.337   \n",
       "...                   ...      ...         ...         ...              ...   \n",
       "5801               ['NG']      NaN         6.9        39.0            0.966   \n",
       "5802                   []      NaN         NaN         NaN            1.036   \n",
       "5803         ['NG', 'CA']      NaN         6.5        32.0            0.709   \n",
       "5804                   []      NaN         6.2         9.0            2.186   \n",
       "5805                   []      1.0         8.8        16.0            0.979   \n",
       "\n",
       "      tmdb_score  \n",
       "0            NaN  \n",
       "1            8.2  \n",
       "2            7.8  \n",
       "3            7.8  \n",
       "4            7.7  \n",
       "...          ...  \n",
       "5801         NaN  \n",
       "5802         8.5  \n",
       "5803         NaN  \n",
       "5804         NaN  \n",
       "5805        10.0  \n",
       "\n",
       "[5806 rows x 13 columns]"
      ]
     },
     "execution_count": 15,
     "metadata": {},
     "output_type": "execute_result"
    }
   ],
   "source": [
    "titles_df = raw_titles_df.drop(['id', 'imdb_id'], axis = 1)\n",
    "titles_df"
   ]
  },
  {
   "cell_type": "code",
   "execution_count": 16,
   "metadata": {},
   "outputs": [
    {
     "data": {
      "text/plain": [
       "(5806, 13)"
      ]
     },
     "execution_count": 16,
     "metadata": {},
     "output_type": "execute_result"
    }
   ],
   "source": [
    "titles_df.shape"
   ]
  },
  {
   "cell_type": "markdown",
   "metadata": {},
   "source": [
    "   `.shape()`\n",
    "method is used to find number of rows and columns. In this case we have 13 columns and 5806 rows. Here  rows denotes the number releases till date(both movies and shows count). And columns denote various factors considered in the survey."
   ]
  },
  {
   "cell_type": "code",
   "execution_count": 17,
   "metadata": {},
   "outputs": [
    {
     "name": "stdout",
     "output_type": "stream",
     "text": [
      "<class 'pandas.core.frame.DataFrame'>\n",
      "RangeIndex: 5806 entries, 0 to 5805\n",
      "Data columns (total 13 columns):\n",
      " #   Column                Non-Null Count  Dtype  \n",
      "---  ------                --------------  -----  \n",
      " 0   title                 5805 non-null   object \n",
      " 1   type                  5806 non-null   object \n",
      " 2   description           5788 non-null   object \n",
      " 3   release_year          5806 non-null   int64  \n",
      " 4   age_certification     3196 non-null   object \n",
      " 5   runtime               5806 non-null   int64  \n",
      " 6   genres                5806 non-null   object \n",
      " 7   production_countries  5806 non-null   object \n",
      " 8   seasons               2047 non-null   float64\n",
      " 9   imdb_score            5283 non-null   float64\n",
      " 10  imdb_votes            5267 non-null   float64\n",
      " 11  tmdb_popularity       5712 non-null   float64\n",
      " 12  tmdb_score            5488 non-null   float64\n",
      "dtypes: float64(5), int64(2), object(6)\n",
      "memory usage: 589.8+ KB\n"
     ]
    }
   ],
   "source": [
    "titles_df.info()"
   ]
  },
  {
   "cell_type": "markdown",
   "metadata": {},
   "source": [
    "As you can see there are object, float and int type values."
   ]
  },
  {
   "cell_type": "code",
   "execution_count": 18,
   "metadata": {},
   "outputs": [
    {
     "data": {
      "text/plain": [
       "Index(['title', 'type', 'description', 'release_year', 'age_certification',\n",
       "       'runtime', 'genres', 'production_countries', 'seasons', 'imdb_score',\n",
       "       'imdb_votes', 'tmdb_popularity', 'tmdb_score'],\n",
       "      dtype='object')"
      ]
     },
     "execution_count": 18,
     "metadata": {},
     "output_type": "execute_result"
    }
   ],
   "source": [
    "titles_df.columns"
   ]
  },
  {
   "cell_type": "markdown",
   "metadata": {},
   "source": [
    "Above data is showing about columns(factors they have considered for the survey) in the given dataset. "
   ]
  },
  {
   "cell_type": "code",
   "execution_count": 19,
   "metadata": {},
   "outputs": [
    {
     "data": {
      "text/plain": [
       "title                   5751\n",
       "type                       2\n",
       "description             5785\n",
       "release_year              67\n",
       "age_certification         11\n",
       "runtime                  205\n",
       "genres                  1626\n",
       "production_countries     449\n",
       "seasons                   23\n",
       "imdb_score                81\n",
       "imdb_votes              3831\n",
       "tmdb_popularity         4943\n",
       "tmdb_score                78\n",
       "dtype: int64"
      ]
     },
     "execution_count": 19,
     "metadata": {},
     "output_type": "execute_result"
    }
   ],
   "source": [
    "titles_df.nunique()"
   ]
  },
  {
   "cell_type": "markdown",
   "metadata": {},
   "source": [
    "This tells about the number of unique values each column has.\n",
    "\n",
    "As you can see 5751 unique titles and but the rows are 5806(there might be some data which entered multiple times).\n",
    "Only 2 types viz, MOVIES and TV SHOWS were there.\n",
    "5785 unique descriptions for a movie/ show were entered.. and so on."
   ]
  },
  {
   "cell_type": "code",
   "execution_count": 20,
   "metadata": {},
   "outputs": [
    {
     "data": {
      "text/html": [
       "<div>\n",
       "<style scoped>\n",
       "    .dataframe tbody tr th:only-of-type {\n",
       "        vertical-align: middle;\n",
       "    }\n",
       "\n",
       "    .dataframe tbody tr th {\n",
       "        vertical-align: top;\n",
       "    }\n",
       "\n",
       "    .dataframe thead th {\n",
       "        text-align: right;\n",
       "    }\n",
       "</style>\n",
       "<table border=\"1\" class=\"dataframe\">\n",
       "  <thead>\n",
       "    <tr style=\"text-align: right;\">\n",
       "      <th></th>\n",
       "      <th>release_year</th>\n",
       "      <th>runtime</th>\n",
       "      <th>seasons</th>\n",
       "      <th>imdb_score</th>\n",
       "      <th>imdb_votes</th>\n",
       "      <th>tmdb_popularity</th>\n",
       "      <th>tmdb_score</th>\n",
       "    </tr>\n",
       "  </thead>\n",
       "  <tbody>\n",
       "    <tr>\n",
       "      <th>count</th>\n",
       "      <td>5806.000000</td>\n",
       "      <td>5806.000000</td>\n",
       "      <td>2047.000000</td>\n",
       "      <td>5283.000000</td>\n",
       "      <td>5.267000e+03</td>\n",
       "      <td>5712.000000</td>\n",
       "      <td>5488.000000</td>\n",
       "    </tr>\n",
       "    <tr>\n",
       "      <th>mean</th>\n",
       "      <td>2016.013434</td>\n",
       "      <td>77.643989</td>\n",
       "      <td>2.165608</td>\n",
       "      <td>6.533447</td>\n",
       "      <td>2.340719e+04</td>\n",
       "      <td>22.525660</td>\n",
       "      <td>6.818039</td>\n",
       "    </tr>\n",
       "    <tr>\n",
       "      <th>std</th>\n",
       "      <td>7.324883</td>\n",
       "      <td>39.474160</td>\n",
       "      <td>2.636207</td>\n",
       "      <td>1.160932</td>\n",
       "      <td>8.713432e+04</td>\n",
       "      <td>68.849177</td>\n",
       "      <td>1.171560</td>\n",
       "    </tr>\n",
       "    <tr>\n",
       "      <th>min</th>\n",
       "      <td>1945.000000</td>\n",
       "      <td>0.000000</td>\n",
       "      <td>1.000000</td>\n",
       "      <td>1.500000</td>\n",
       "      <td>5.000000e+00</td>\n",
       "      <td>0.009442</td>\n",
       "      <td>0.500000</td>\n",
       "    </tr>\n",
       "    <tr>\n",
       "      <th>25%</th>\n",
       "      <td>2015.000000</td>\n",
       "      <td>44.000000</td>\n",
       "      <td>1.000000</td>\n",
       "      <td>5.800000</td>\n",
       "      <td>5.210000e+02</td>\n",
       "      <td>3.155250</td>\n",
       "      <td>6.100000</td>\n",
       "    </tr>\n",
       "    <tr>\n",
       "      <th>50%</th>\n",
       "      <td>2018.000000</td>\n",
       "      <td>84.000000</td>\n",
       "      <td>1.000000</td>\n",
       "      <td>6.600000</td>\n",
       "      <td>2.279000e+03</td>\n",
       "      <td>7.478000</td>\n",
       "      <td>6.900000</td>\n",
       "    </tr>\n",
       "    <tr>\n",
       "      <th>75%</th>\n",
       "      <td>2020.000000</td>\n",
       "      <td>105.000000</td>\n",
       "      <td>2.000000</td>\n",
       "      <td>7.400000</td>\n",
       "      <td>1.014400e+04</td>\n",
       "      <td>17.775750</td>\n",
       "      <td>7.500000</td>\n",
       "    </tr>\n",
       "    <tr>\n",
       "      <th>max</th>\n",
       "      <td>2022.000000</td>\n",
       "      <td>251.000000</td>\n",
       "      <td>42.000000</td>\n",
       "      <td>9.600000</td>\n",
       "      <td>2.268288e+06</td>\n",
       "      <td>1823.374000</td>\n",
       "      <td>10.000000</td>\n",
       "    </tr>\n",
       "  </tbody>\n",
       "</table>\n",
       "</div>"
      ],
      "text/plain": [
       "       release_year      runtime      seasons   imdb_score    imdb_votes  \\\n",
       "count   5806.000000  5806.000000  2047.000000  5283.000000  5.267000e+03   \n",
       "mean    2016.013434    77.643989     2.165608     6.533447  2.340719e+04   \n",
       "std        7.324883    39.474160     2.636207     1.160932  8.713432e+04   \n",
       "min     1945.000000     0.000000     1.000000     1.500000  5.000000e+00   \n",
       "25%     2015.000000    44.000000     1.000000     5.800000  5.210000e+02   \n",
       "50%     2018.000000    84.000000     1.000000     6.600000  2.279000e+03   \n",
       "75%     2020.000000   105.000000     2.000000     7.400000  1.014400e+04   \n",
       "max     2022.000000   251.000000    42.000000     9.600000  2.268288e+06   \n",
       "\n",
       "       tmdb_popularity   tmdb_score  \n",
       "count      5712.000000  5488.000000  \n",
       "mean         22.525660     6.818039  \n",
       "std          68.849177     1.171560  \n",
       "min           0.009442     0.500000  \n",
       "25%           3.155250     6.100000  \n",
       "50%           7.478000     6.900000  \n",
       "75%          17.775750     7.500000  \n",
       "max        1823.374000    10.000000  "
      ]
     },
     "execution_count": 20,
     "metadata": {},
     "output_type": "execute_result"
    }
   ],
   "source": [
    "titles_df.describe()"
   ]
  },
  {
   "cell_type": "markdown",
   "metadata": {},
   "source": [
    "All values seems to be ok, and we see average run time of a show/movie is around 77 min and number of seasons being 2. With a average imdb score of 6.5 which decent to be watched."
   ]
  },
  {
   "cell_type": "markdown",
   "metadata": {},
   "source": [
    "#### Handling null values\n",
    "\n",
    "Check if there are any null values and handling them with appropriate values."
   ]
  },
  {
   "cell_type": "code",
   "execution_count": 21,
   "metadata": {},
   "outputs": [
    {
     "data": {
      "text/plain": [
       "True"
      ]
     },
     "execution_count": 21,
     "metadata": {},
     "output_type": "execute_result"
    }
   ],
   "source": [
    "titles_df.isnull().values.any()"
   ]
  },
  {
   "cell_type": "code",
   "execution_count": 22,
   "metadata": {},
   "outputs": [
    {
     "data": {
      "text/plain": [
       "7862"
      ]
     },
     "execution_count": 22,
     "metadata": {},
     "output_type": "execute_result"
    }
   ],
   "source": [
    "titles_df.isnull().sum().sum()"
   ]
  },
  {
   "cell_type": "markdown",
   "metadata": {},
   "source": [
    "This is the total count of null values in the data set."
   ]
  },
  {
   "cell_type": "code",
   "execution_count": 23,
   "metadata": {},
   "outputs": [
    {
     "data": {
      "image/png": "[encoded data removed]",
      "text/plain": [
       "<Figure size 432x288 with 2 Axes>"
      ]
     },
     "metadata": {
      "needs_background": "light"
     },
     "output_type": "display_data"
    }
   ],
   "source": [
    "sns.heatmap(titles_df.isnull())\n",
    "plt.title('Heatmap showing null values');"
   ]
  },
  {
   "cell_type": "markdown",
   "metadata": {},
   "source": [
    "There a total of 7862 null of values are present in given dataset of which can be seen majorly seen in seasons, age certification, imdb score and imdb votes. "
   ]
  },
  {
   "cell_type": "markdown",
   "metadata": {},
   "source": [
    "Null values in each column is given by:"
   ]
  },
  {
   "cell_type": "code",
   "execution_count": 24,
   "metadata": {},
   "outputs": [
    {
     "data": {
      "text/plain": [
       "title                      1\n",
       "type                       0\n",
       "description               18\n",
       "release_year               0\n",
       "age_certification       2610\n",
       "runtime                    0\n",
       "genres                     0\n",
       "production_countries       0\n",
       "seasons                 3759\n",
       "imdb_score               523\n",
       "imdb_votes               539\n",
       "tmdb_popularity           94\n",
       "tmdb_score               318\n",
       "dtype: int64"
      ]
     },
     "execution_count": 24,
     "metadata": {},
     "output_type": "execute_result"
    }
   ],
   "source": [
    "titles_df.isnull().sum()"
   ]
  },
  {
   "cell_type": "markdown",
   "metadata": {},
   "source": [
    "We are unable to find the exact columns which has null values just by viewing the heatmap, as there some columns which have null values but unable to visualize in heatmap(for e.g., title). It is shown by `isnull().sum()` function unable figure it out by viewing heatmap. Hence it's important to use this function in order find null values instead heatmap. But map gives you a brief overview of how many null values were there for each column. now, Filling the null values with appropriate values"
   ]
  },
  {
   "cell_type": "code",
   "execution_count": 25,
   "metadata": {},
   "outputs": [
    {
     "data": {
      "text/html": [
       "<div>\n",
       "<style scoped>\n",
       "    .dataframe tbody tr th:only-of-type {\n",
       "        vertical-align: middle;\n",
       "    }\n",
       "\n",
       "    .dataframe tbody tr th {\n",
       "        vertical-align: top;\n",
       "    }\n",
       "\n",
       "    .dataframe thead th {\n",
       "        text-align: right;\n",
       "    }\n",
       "</style>\n",
       "<table border=\"1\" class=\"dataframe\">\n",
       "  <thead>\n",
       "    <tr style=\"text-align: right;\">\n",
       "      <th></th>\n",
       "      <th>title</th>\n",
       "      <th>type</th>\n",
       "      <th>description</th>\n",
       "      <th>release_year</th>\n",
       "      <th>age_certification</th>\n",
       "      <th>runtime</th>\n",
       "      <th>genres</th>\n",
       "      <th>production_countries</th>\n",
       "      <th>seasons</th>\n",
       "      <th>imdb_score</th>\n",
       "      <th>imdb_votes</th>\n",
       "      <th>tmdb_popularity</th>\n",
       "      <th>tmdb_score</th>\n",
       "    </tr>\n",
       "  </thead>\n",
       "  <tbody>\n",
       "    <tr>\n",
       "      <th>0</th>\n",
       "      <td>Five Came Back: The Reference Films</td>\n",
       "      <td>SHOW</td>\n",
       "      <td>This collection includes 12 World War II-era p...</td>\n",
       "      <td>1945</td>\n",
       "      <td>TV-MA</td>\n",
       "      <td>48</td>\n",
       "      <td>['documentation']</td>\n",
       "      <td>['US']</td>\n",
       "      <td>1.0</td>\n",
       "      <td>NaN</td>\n",
       "      <td>NaN</td>\n",
       "      <td>0.600</td>\n",
       "      <td>NaN</td>\n",
       "    </tr>\n",
       "    <tr>\n",
       "      <th>1</th>\n",
       "      <td>Taxi Driver</td>\n",
       "      <td>MOVIE</td>\n",
       "      <td>A mentally unstable Vietnam War veteran works ...</td>\n",
       "      <td>1976</td>\n",
       "      <td>R</td>\n",
       "      <td>113</td>\n",
       "      <td>['crime', 'drama']</td>\n",
       "      <td>['US']</td>\n",
       "      <td>0.0</td>\n",
       "      <td>8.3</td>\n",
       "      <td>795222.0</td>\n",
       "      <td>27.612</td>\n",
       "      <td>8.2</td>\n",
       "    </tr>\n",
       "    <tr>\n",
       "      <th>2</th>\n",
       "      <td>Monty Python and the Holy Grail</td>\n",
       "      <td>MOVIE</td>\n",
       "      <td>King Arthur, accompanied by his squire, recrui...</td>\n",
       "      <td>1975</td>\n",
       "      <td>PG</td>\n",
       "      <td>91</td>\n",
       "      <td>['comedy', 'fantasy']</td>\n",
       "      <td>['GB']</td>\n",
       "      <td>0.0</td>\n",
       "      <td>8.2</td>\n",
       "      <td>530877.0</td>\n",
       "      <td>18.216</td>\n",
       "      <td>7.8</td>\n",
       "    </tr>\n",
       "    <tr>\n",
       "      <th>3</th>\n",
       "      <td>Life of Brian</td>\n",
       "      <td>MOVIE</td>\n",
       "      <td>Brian Cohen is an average young Jewish man, bu...</td>\n",
       "      <td>1979</td>\n",
       "      <td>R</td>\n",
       "      <td>94</td>\n",
       "      <td>['comedy']</td>\n",
       "      <td>['GB']</td>\n",
       "      <td>0.0</td>\n",
       "      <td>8.0</td>\n",
       "      <td>392419.0</td>\n",
       "      <td>17.505</td>\n",
       "      <td>7.8</td>\n",
       "    </tr>\n",
       "    <tr>\n",
       "      <th>4</th>\n",
       "      <td>The Exorcist</td>\n",
       "      <td>MOVIE</td>\n",
       "      <td>12-year-old Regan MacNeil begins to adapt an e...</td>\n",
       "      <td>1973</td>\n",
       "      <td>R</td>\n",
       "      <td>133</td>\n",
       "      <td>['horror']</td>\n",
       "      <td>['US']</td>\n",
       "      <td>0.0</td>\n",
       "      <td>8.1</td>\n",
       "      <td>391942.0</td>\n",
       "      <td>95.337</td>\n",
       "      <td>7.7</td>\n",
       "    </tr>\n",
       "    <tr>\n",
       "      <th>...</th>\n",
       "      <td>...</td>\n",
       "      <td>...</td>\n",
       "      <td>...</td>\n",
       "      <td>...</td>\n",
       "      <td>...</td>\n",
       "      <td>...</td>\n",
       "      <td>...</td>\n",
       "      <td>...</td>\n",
       "      <td>...</td>\n",
       "      <td>...</td>\n",
       "      <td>...</td>\n",
       "      <td>...</td>\n",
       "      <td>...</td>\n",
       "    </tr>\n",
       "    <tr>\n",
       "      <th>5801</th>\n",
       "      <td>Fine Wine</td>\n",
       "      <td>MOVIE</td>\n",
       "      <td>A beautiful love story that can happen between...</td>\n",
       "      <td>2021</td>\n",
       "      <td>NaN</td>\n",
       "      <td>100</td>\n",
       "      <td>['romance', 'drama']</td>\n",
       "      <td>['NG']</td>\n",
       "      <td>0.0</td>\n",
       "      <td>6.9</td>\n",
       "      <td>39.0</td>\n",
       "      <td>0.966</td>\n",
       "      <td>NaN</td>\n",
       "    </tr>\n",
       "    <tr>\n",
       "      <th>5802</th>\n",
       "      <td>Edis Starlight</td>\n",
       "      <td>MOVIE</td>\n",
       "      <td>Rising star Edis's career journey with ups and...</td>\n",
       "      <td>2021</td>\n",
       "      <td>NaN</td>\n",
       "      <td>74</td>\n",
       "      <td>['music', 'documentation']</td>\n",
       "      <td>[]</td>\n",
       "      <td>0.0</td>\n",
       "      <td>NaN</td>\n",
       "      <td>NaN</td>\n",
       "      <td>1.036</td>\n",
       "      <td>8.5</td>\n",
       "    </tr>\n",
       "    <tr>\n",
       "      <th>5803</th>\n",
       "      <td>Clash</td>\n",
       "      <td>MOVIE</td>\n",
       "      <td>A man from Nigeria returns to his family in Ca...</td>\n",
       "      <td>2021</td>\n",
       "      <td>NaN</td>\n",
       "      <td>88</td>\n",
       "      <td>['family', 'drama']</td>\n",
       "      <td>['NG', 'CA']</td>\n",
       "      <td>0.0</td>\n",
       "      <td>6.5</td>\n",
       "      <td>32.0</td>\n",
       "      <td>0.709</td>\n",
       "      <td>NaN</td>\n",
       "    </tr>\n",
       "    <tr>\n",
       "      <th>5804</th>\n",
       "      <td>Shadow Parties</td>\n",
       "      <td>MOVIE</td>\n",
       "      <td>A family faces destruction in a long-running c...</td>\n",
       "      <td>2021</td>\n",
       "      <td>NaN</td>\n",
       "      <td>116</td>\n",
       "      <td>['action', 'thriller']</td>\n",
       "      <td>[]</td>\n",
       "      <td>0.0</td>\n",
       "      <td>6.2</td>\n",
       "      <td>9.0</td>\n",
       "      <td>2.186</td>\n",
       "      <td>NaN</td>\n",
       "    </tr>\n",
       "    <tr>\n",
       "      <th>5805</th>\n",
       "      <td>Mighty Little Bheem: Kite Festival</td>\n",
       "      <td>SHOW</td>\n",
       "      <td>With winter behind them, Bheem and his townspe...</td>\n",
       "      <td>2021</td>\n",
       "      <td>NaN</td>\n",
       "      <td>0</td>\n",
       "      <td>['family', 'comedy', 'animation']</td>\n",
       "      <td>[]</td>\n",
       "      <td>1.0</td>\n",
       "      <td>8.8</td>\n",
       "      <td>16.0</td>\n",
       "      <td>0.979</td>\n",
       "      <td>10.0</td>\n",
       "    </tr>\n",
       "  </tbody>\n",
       "</table>\n",
       "<p>5806 rows × 13 columns</p>\n",
       "</div>"
      ],
      "text/plain": [
       "                                    title   type  \\\n",
       "0     Five Came Back: The Reference Films   SHOW   \n",
       "1                             Taxi Driver  MOVIE   \n",
       "2         Monty Python and the Holy Grail  MOVIE   \n",
       "3                           Life of Brian  MOVIE   \n",
       "4                            The Exorcist  MOVIE   \n",
       "...                                   ...    ...   \n",
       "5801                            Fine Wine  MOVIE   \n",
       "5802                       Edis Starlight  MOVIE   \n",
       "5803                                Clash  MOVIE   \n",
       "5804                       Shadow Parties  MOVIE   \n",
       "5805   Mighty Little Bheem: Kite Festival   SHOW   \n",
       "\n",
       "                                            description  release_year  \\\n",
       "0     This collection includes 12 World War II-era p...          1945   \n",
       "1     A mentally unstable Vietnam War veteran works ...          1976   \n",
       "2     King Arthur, accompanied by his squire, recrui...          1975   \n",
       "3     Brian Cohen is an average young Jewish man, bu...          1979   \n",
       "4     12-year-old Regan MacNeil begins to adapt an e...          1973   \n",
       "...                                                 ...           ...   \n",
       "5801  A beautiful love story that can happen between...          2021   \n",
       "5802  Rising star Edis's career journey with ups and...          2021   \n",
       "5803  A man from Nigeria returns to his family in Ca...          2021   \n",
       "5804  A family faces destruction in a long-running c...          2021   \n",
       "5805  With winter behind them, Bheem and his townspe...          2021   \n",
       "\n",
       "     age_certification  runtime                             genres  \\\n",
       "0                TV-MA       48                  ['documentation']   \n",
       "1                    R      113                 ['crime', 'drama']   \n",
       "2                   PG       91              ['comedy', 'fantasy']   \n",
       "3                    R       94                         ['comedy']   \n",
       "4                    R      133                         ['horror']   \n",
       "...                ...      ...                                ...   \n",
       "5801               NaN      100               ['romance', 'drama']   \n",
       "5802               NaN       74         ['music', 'documentation']   \n",
       "5803               NaN       88                ['family', 'drama']   \n",
       "5804               NaN      116             ['action', 'thriller']   \n",
       "5805               NaN        0  ['family', 'comedy', 'animation']   \n",
       "\n",
       "     production_countries  seasons  imdb_score  imdb_votes  tmdb_popularity  \\\n",
       "0                  ['US']      1.0         NaN         NaN            0.600   \n",
       "1                  ['US']      0.0         8.3    795222.0           27.612   \n",
       "2                  ['GB']      0.0         8.2    530877.0           18.216   \n",
       "3                  ['GB']      0.0         8.0    392419.0           17.505   \n",
       "4                  ['US']      0.0         8.1    391942.0           95.337   \n",
       "...                   ...      ...         ...         ...              ...   \n",
       "5801               ['NG']      0.0         6.9        39.0            0.966   \n",
       "5802                   []      0.0         NaN         NaN            1.036   \n",
       "5803         ['NG', 'CA']      0.0         6.5        32.0            0.709   \n",
       "5804                   []      0.0         6.2         9.0            2.186   \n",
       "5805                   []      1.0         8.8        16.0            0.979   \n",
       "\n",
       "      tmdb_score  \n",
       "0            NaN  \n",
       "1            8.2  \n",
       "2            7.8  \n",
       "3            7.8  \n",
       "4            7.7  \n",
       "...          ...  \n",
       "5801         NaN  \n",
       "5802         8.5  \n",
       "5803         NaN  \n",
       "5804         NaN  \n",
       "5805        10.0  \n",
       "\n",
       "[5806 rows x 13 columns]"
      ]
     },
     "execution_count": 25,
     "metadata": {},
     "output_type": "execute_result"
    }
   ],
   "source": [
    "titles_df['seasons'].fillna(0, inplace = True)\n",
    "titles_df"
   ]
  },
  {
   "cell_type": "code",
   "execution_count": 26,
   "metadata": {},
   "outputs": [],
   "source": [
    "titles_df['title'].fillna('no title', inplace = True)\n",
    "titles_df['description'].fillna('no description', inplace = True)\n",
    "titles_df['age_certification'].fillna(0, inplace = True)\n",
    "titles_df['imdb_score'].fillna(0, inplace = True)\n",
    "titles_df['imdb_votes'].fillna(0, inplace = True)\n",
    "titles_df['tmdb_popularity'].fillna(0, inplace = True)\n",
    "titles_df['tmdb_score'].fillna(0, inplace = True)"
   ]
  },
  {
   "cell_type": "code",
   "execution_count": 27,
   "metadata": {},
   "outputs": [
    {
     "data": {
      "text/plain": [
       "title                   0\n",
       "type                    0\n",
       "description             0\n",
       "release_year            0\n",
       "age_certification       0\n",
       "runtime                 0\n",
       "genres                  0\n",
       "production_countries    0\n",
       "seasons                 0\n",
       "imdb_score              0\n",
       "imdb_votes              0\n",
       "tmdb_popularity         0\n",
       "tmdb_score              0\n",
       "dtype: int64"
      ]
     },
     "execution_count": 27,
     "metadata": {},
     "output_type": "execute_result"
    }
   ],
   "source": [
    "titles_df.isnull().sum()"
   ]
  },
  {
   "cell_type": "markdown",
   "metadata": {},
   "source": [
    "As we can see there were no null values, we can proceed further."
   ]
  },
  {
   "cell_type": "code",
   "execution_count": 28,
   "metadata": {},
   "outputs": [
    {
     "data": {
      "text/html": [
       "<div>\n",
       "<style scoped>\n",
       "    .dataframe tbody tr th:only-of-type {\n",
       "        vertical-align: middle;\n",
       "    }\n",
       "\n",
       "    .dataframe tbody tr th {\n",
       "        vertical-align: top;\n",
       "    }\n",
       "\n",
       "    .dataframe thead th {\n",
       "        text-align: right;\n",
       "    }\n",
       "</style>\n",
       "<table border=\"1\" class=\"dataframe\">\n",
       "  <thead>\n",
       "    <tr style=\"text-align: right;\">\n",
       "      <th></th>\n",
       "      <th>title</th>\n",
       "      <th>type</th>\n",
       "      <th>description</th>\n",
       "      <th>release_year</th>\n",
       "      <th>age_certification</th>\n",
       "      <th>runtime</th>\n",
       "      <th>genres</th>\n",
       "      <th>production_countries</th>\n",
       "      <th>seasons</th>\n",
       "      <th>imdb_score</th>\n",
       "      <th>imdb_votes</th>\n",
       "      <th>tmdb_popularity</th>\n",
       "      <th>tmdb_score</th>\n",
       "    </tr>\n",
       "  </thead>\n",
       "  <tbody>\n",
       "    <tr>\n",
       "      <th>0</th>\n",
       "      <td>Five Came Back: The Reference Films</td>\n",
       "      <td>SHOW</td>\n",
       "      <td>This collection includes 12 World War II-era p...</td>\n",
       "      <td>1945</td>\n",
       "      <td>TV-MA</td>\n",
       "      <td>48</td>\n",
       "      <td>['documentation']</td>\n",
       "      <td>['US']</td>\n",
       "      <td>1.0</td>\n",
       "      <td>0.0</td>\n",
       "      <td>0.0</td>\n",
       "      <td>0.600</td>\n",
       "      <td>0.0</td>\n",
       "    </tr>\n",
       "    <tr>\n",
       "      <th>1</th>\n",
       "      <td>Taxi Driver</td>\n",
       "      <td>MOVIE</td>\n",
       "      <td>A mentally unstable Vietnam War veteran works ...</td>\n",
       "      <td>1976</td>\n",
       "      <td>R</td>\n",
       "      <td>113</td>\n",
       "      <td>['crime', 'drama']</td>\n",
       "      <td>['US']</td>\n",
       "      <td>0.0</td>\n",
       "      <td>8.3</td>\n",
       "      <td>795222.0</td>\n",
       "      <td>27.612</td>\n",
       "      <td>8.2</td>\n",
       "    </tr>\n",
       "    <tr>\n",
       "      <th>2</th>\n",
       "      <td>Monty Python and the Holy Grail</td>\n",
       "      <td>MOVIE</td>\n",
       "      <td>King Arthur, accompanied by his squire, recrui...</td>\n",
       "      <td>1975</td>\n",
       "      <td>PG</td>\n",
       "      <td>91</td>\n",
       "      <td>['comedy', 'fantasy']</td>\n",
       "      <td>['GB']</td>\n",
       "      <td>0.0</td>\n",
       "      <td>8.2</td>\n",
       "      <td>530877.0</td>\n",
       "      <td>18.216</td>\n",
       "      <td>7.8</td>\n",
       "    </tr>\n",
       "    <tr>\n",
       "      <th>3</th>\n",
       "      <td>Life of Brian</td>\n",
       "      <td>MOVIE</td>\n",
       "      <td>Brian Cohen is an average young Jewish man, bu...</td>\n",
       "      <td>1979</td>\n",
       "      <td>R</td>\n",
       "      <td>94</td>\n",
       "      <td>['comedy']</td>\n",
       "      <td>['GB']</td>\n",
       "      <td>0.0</td>\n",
       "      <td>8.0</td>\n",
       "      <td>392419.0</td>\n",
       "      <td>17.505</td>\n",
       "      <td>7.8</td>\n",
       "    </tr>\n",
       "    <tr>\n",
       "      <th>4</th>\n",
       "      <td>The Exorcist</td>\n",
       "      <td>MOVIE</td>\n",
       "      <td>12-year-old Regan MacNeil begins to adapt an e...</td>\n",
       "      <td>1973</td>\n",
       "      <td>R</td>\n",
       "      <td>133</td>\n",
       "      <td>['horror']</td>\n",
       "      <td>['US']</td>\n",
       "      <td>0.0</td>\n",
       "      <td>8.1</td>\n",
       "      <td>391942.0</td>\n",
       "      <td>95.337</td>\n",
       "      <td>7.7</td>\n",
       "    </tr>\n",
       "    <tr>\n",
       "      <th>...</th>\n",
       "      <td>...</td>\n",
       "      <td>...</td>\n",
       "      <td>...</td>\n",
       "      <td>...</td>\n",
       "      <td>...</td>\n",
       "      <td>...</td>\n",
       "      <td>...</td>\n",
       "      <td>...</td>\n",
       "      <td>...</td>\n",
       "      <td>...</td>\n",
       "      <td>...</td>\n",
       "      <td>...</td>\n",
       "      <td>...</td>\n",
       "    </tr>\n",
       "    <tr>\n",
       "      <th>5801</th>\n",
       "      <td>Fine Wine</td>\n",
       "      <td>MOVIE</td>\n",
       "      <td>A beautiful love story that can happen between...</td>\n",
       "      <td>2021</td>\n",
       "      <td>0</td>\n",
       "      <td>100</td>\n",
       "      <td>['romance', 'drama']</td>\n",
       "      <td>['NG']</td>\n",
       "      <td>0.0</td>\n",
       "      <td>6.9</td>\n",
       "      <td>39.0</td>\n",
       "      <td>0.966</td>\n",
       "      <td>0.0</td>\n",
       "    </tr>\n",
       "    <tr>\n",
       "      <th>5802</th>\n",
       "      <td>Edis Starlight</td>\n",
       "      <td>MOVIE</td>\n",
       "      <td>Rising star Edis's career journey with ups and...</td>\n",
       "      <td>2021</td>\n",
       "      <td>0</td>\n",
       "      <td>74</td>\n",
       "      <td>['music', 'documentation']</td>\n",
       "      <td>[]</td>\n",
       "      <td>0.0</td>\n",
       "      <td>0.0</td>\n",
       "      <td>0.0</td>\n",
       "      <td>1.036</td>\n",
       "      <td>8.5</td>\n",
       "    </tr>\n",
       "    <tr>\n",
       "      <th>5803</th>\n",
       "      <td>Clash</td>\n",
       "      <td>MOVIE</td>\n",
       "      <td>A man from Nigeria returns to his family in Ca...</td>\n",
       "      <td>2021</td>\n",
       "      <td>0</td>\n",
       "      <td>88</td>\n",
       "      <td>['family', 'drama']</td>\n",
       "      <td>['NG', 'CA']</td>\n",
       "      <td>0.0</td>\n",
       "      <td>6.5</td>\n",
       "      <td>32.0</td>\n",
       "      <td>0.709</td>\n",
       "      <td>0.0</td>\n",
       "    </tr>\n",
       "    <tr>\n",
       "      <th>5804</th>\n",
       "      <td>Shadow Parties</td>\n",
       "      <td>MOVIE</td>\n",
       "      <td>A family faces destruction in a long-running c...</td>\n",
       "      <td>2021</td>\n",
       "      <td>0</td>\n",
       "      <td>116</td>\n",
       "      <td>['action', 'thriller']</td>\n",
       "      <td>[]</td>\n",
       "      <td>0.0</td>\n",
       "      <td>6.2</td>\n",
       "      <td>9.0</td>\n",
       "      <td>2.186</td>\n",
       "      <td>0.0</td>\n",
       "    </tr>\n",
       "    <tr>\n",
       "      <th>5805</th>\n",
       "      <td>Mighty Little Bheem: Kite Festival</td>\n",
       "      <td>SHOW</td>\n",
       "      <td>With winter behind them, Bheem and his townspe...</td>\n",
       "      <td>2021</td>\n",
       "      <td>0</td>\n",
       "      <td>0</td>\n",
       "      <td>['family', 'comedy', 'animation']</td>\n",
       "      <td>[]</td>\n",
       "      <td>1.0</td>\n",
       "      <td>8.8</td>\n",
       "      <td>16.0</td>\n",
       "      <td>0.979</td>\n",
       "      <td>10.0</td>\n",
       "    </tr>\n",
       "  </tbody>\n",
       "</table>\n",
       "<p>5806 rows × 13 columns</p>\n",
       "</div>"
      ],
      "text/plain": [
       "                                    title   type  \\\n",
       "0     Five Came Back: The Reference Films   SHOW   \n",
       "1                             Taxi Driver  MOVIE   \n",
       "2         Monty Python and the Holy Grail  MOVIE   \n",
       "3                           Life of Brian  MOVIE   \n",
       "4                            The Exorcist  MOVIE   \n",
       "...                                   ...    ...   \n",
       "5801                            Fine Wine  MOVIE   \n",
       "5802                       Edis Starlight  MOVIE   \n",
       "5803                                Clash  MOVIE   \n",
       "5804                       Shadow Parties  MOVIE   \n",
       "5805   Mighty Little Bheem: Kite Festival   SHOW   \n",
       "\n",
       "                                            description  release_year  \\\n",
       "0     This collection includes 12 World War II-era p...          1945   \n",
       "1     A mentally unstable Vietnam War veteran works ...          1976   \n",
       "2     King Arthur, accompanied by his squire, recrui...          1975   \n",
       "3     Brian Cohen is an average young Jewish man, bu...          1979   \n",
       "4     12-year-old Regan MacNeil begins to adapt an e...          1973   \n",
       "...                                                 ...           ...   \n",
       "5801  A beautiful love story that can happen between...          2021   \n",
       "5802  Rising star Edis's career journey with ups and...          2021   \n",
       "5803  A man from Nigeria returns to his family in Ca...          2021   \n",
       "5804  A family faces destruction in a long-running c...          2021   \n",
       "5805  With winter behind them, Bheem and his townspe...          2021   \n",
       "\n",
       "     age_certification  runtime                             genres  \\\n",
       "0                TV-MA       48                  ['documentation']   \n",
       "1                    R      113                 ['crime', 'drama']   \n",
       "2                   PG       91              ['comedy', 'fantasy']   \n",
       "3                    R       94                         ['comedy']   \n",
       "4                    R      133                         ['horror']   \n",
       "...                ...      ...                                ...   \n",
       "5801                 0      100               ['romance', 'drama']   \n",
       "5802                 0       74         ['music', 'documentation']   \n",
       "5803                 0       88                ['family', 'drama']   \n",
       "5804                 0      116             ['action', 'thriller']   \n",
       "5805                 0        0  ['family', 'comedy', 'animation']   \n",
       "\n",
       "     production_countries  seasons  imdb_score  imdb_votes  tmdb_popularity  \\\n",
       "0                  ['US']      1.0         0.0         0.0            0.600   \n",
       "1                  ['US']      0.0         8.3    795222.0           27.612   \n",
       "2                  ['GB']      0.0         8.2    530877.0           18.216   \n",
       "3                  ['GB']      0.0         8.0    392419.0           17.505   \n",
       "4                  ['US']      0.0         8.1    391942.0           95.337   \n",
       "...                   ...      ...         ...         ...              ...   \n",
       "5801               ['NG']      0.0         6.9        39.0            0.966   \n",
       "5802                   []      0.0         0.0         0.0            1.036   \n",
       "5803         ['NG', 'CA']      0.0         6.5        32.0            0.709   \n",
       "5804                   []      0.0         6.2         9.0            2.186   \n",
       "5805                   []      1.0         8.8        16.0            0.979   \n",
       "\n",
       "      tmdb_score  \n",
       "0            0.0  \n",
       "1            8.2  \n",
       "2            7.8  \n",
       "3            7.8  \n",
       "4            7.7  \n",
       "...          ...  \n",
       "5801         0.0  \n",
       "5802         8.5  \n",
       "5803         0.0  \n",
       "5804         0.0  \n",
       "5805        10.0  \n",
       "\n",
       "[5806 rows x 13 columns]"
      ]
     },
     "execution_count": 28,
     "metadata": {},
     "output_type": "execute_result"
    }
   ],
   "source": [
    "titles_df"
   ]
  },
  {
   "cell_type": "markdown",
   "metadata": {},
   "source": [
    "## Saving our work"
   ]
  },
  {
   "cell_type": "code",
   "execution_count": 29,
   "metadata": {},
   "outputs": [],
   "source": [
    "import jovian"
   ]
  },
  {
   "cell_type": "code",
   "execution_count": 30,
   "metadata": {},
   "outputs": [
    {
     "data": {
      "application/javascript": [
       "window.require && require([\"base/js/namespace\"],function(Jupyter){Jupyter.notebook.save_checkpoint()})"
      ],
      "text/plain": [
       "<IPython.core.display.Javascript object>"
      ]
     },
     "metadata": {},
     "output_type": "display_data"
    },
    {
     "name": "stdout",
     "output_type": "stream",
     "text": [
      "[jovian] Updating notebook \"siva-muram/netflix-tv-shows-and-movies\" on https://jovian.ai\u001b[0m\n",
      "[jovian] Committed successfully! https://jovian.ai/siva-muram/netflix-tv-shows-and-movies\u001b[0m\n"
     ]
    },
    {
     "data": {
      "text/plain": [
       "'https://jovian.ai/siva-muram/netflix-tv-shows-and-movies'"
      ]
     },
     "execution_count": 30,
     "metadata": {},
     "output_type": "execute_result"
    }
   ],
   "source": [
    "jovian.commit()"
   ]
  },
  {
   "cell_type": "markdown",
   "metadata": {},
   "source": [
    "## Exploratory Analysis and Visualization\n",
    "\n",
    "Here we will be analysing the data with appropriate plots. Before we ask questions about the survey responses, it would help to understand the respondents' demographics, i.e., country, age etc. It's essential to explore these variables to understand how representative the survey is of the worldwide programming community. A survey of this scale generally tends to have some selection bias.\n",
    "\n"
   ]
  },
  {
   "cell_type": "markdown",
   "metadata": {},
   "source": [
    "Let's begin by importing`matplotlib.pyplot` and `seaborn`."
   ]
  },
  {
   "cell_type": "code",
   "execution_count": 31,
   "metadata": {},
   "outputs": [],
   "source": [
    "import seaborn as sns\n",
    "import matplotlib\n",
    "import matplotlib.pyplot as plt\n",
    "%matplotlib inline\n",
    "\n",
    "sns.set_style('darkgrid')\n",
    "matplotlib.rcParams['font.size'] = 14\n",
    "matplotlib.rcParams['figure.figsize'] = (9, 5)\n",
    "matplotlib.rcParams['figure.facecolor'] = '#00000000'"
   ]
  },
  {
   "cell_type": "code",
   "execution_count": 32,
   "metadata": {},
   "outputs": [
    {
     "data": {
      "text/html": [
       "<div>\n",
       "<style scoped>\n",
       "    .dataframe tbody tr th:only-of-type {\n",
       "        vertical-align: middle;\n",
       "    }\n",
       "\n",
       "    .dataframe tbody tr th {\n",
       "        vertical-align: top;\n",
       "    }\n",
       "\n",
       "    .dataframe thead th {\n",
       "        text-align: right;\n",
       "    }\n",
       "</style>\n",
       "<table border=\"1\" class=\"dataframe\">\n",
       "  <thead>\n",
       "    <tr style=\"text-align: right;\">\n",
       "      <th></th>\n",
       "      <th>title</th>\n",
       "      <th>type</th>\n",
       "      <th>description</th>\n",
       "      <th>release_year</th>\n",
       "      <th>age_certification</th>\n",
       "      <th>runtime</th>\n",
       "      <th>genres</th>\n",
       "      <th>production_countries</th>\n",
       "      <th>seasons</th>\n",
       "      <th>imdb_score</th>\n",
       "      <th>imdb_votes</th>\n",
       "      <th>tmdb_popularity</th>\n",
       "      <th>tmdb_score</th>\n",
       "    </tr>\n",
       "  </thead>\n",
       "  <tbody>\n",
       "    <tr>\n",
       "      <th>0</th>\n",
       "      <td>Five Came Back: The Reference Films</td>\n",
       "      <td>SHOW</td>\n",
       "      <td>This collection includes 12 World War II-era p...</td>\n",
       "      <td>1945</td>\n",
       "      <td>TV-MA</td>\n",
       "      <td>48</td>\n",
       "      <td>['documentation']</td>\n",
       "      <td>['US']</td>\n",
       "      <td>1.0</td>\n",
       "      <td>0.0</td>\n",
       "      <td>0.0</td>\n",
       "      <td>0.600</td>\n",
       "      <td>0.0</td>\n",
       "    </tr>\n",
       "    <tr>\n",
       "      <th>1</th>\n",
       "      <td>Taxi Driver</td>\n",
       "      <td>MOVIE</td>\n",
       "      <td>A mentally unstable Vietnam War veteran works ...</td>\n",
       "      <td>1976</td>\n",
       "      <td>R</td>\n",
       "      <td>113</td>\n",
       "      <td>['crime', 'drama']</td>\n",
       "      <td>['US']</td>\n",
       "      <td>0.0</td>\n",
       "      <td>8.3</td>\n",
       "      <td>795222.0</td>\n",
       "      <td>27.612</td>\n",
       "      <td>8.2</td>\n",
       "    </tr>\n",
       "    <tr>\n",
       "      <th>2</th>\n",
       "      <td>Monty Python and the Holy Grail</td>\n",
       "      <td>MOVIE</td>\n",
       "      <td>King Arthur, accompanied by his squire, recrui...</td>\n",
       "      <td>1975</td>\n",
       "      <td>PG</td>\n",
       "      <td>91</td>\n",
       "      <td>['comedy', 'fantasy']</td>\n",
       "      <td>['GB']</td>\n",
       "      <td>0.0</td>\n",
       "      <td>8.2</td>\n",
       "      <td>530877.0</td>\n",
       "      <td>18.216</td>\n",
       "      <td>7.8</td>\n",
       "    </tr>\n",
       "    <tr>\n",
       "      <th>3</th>\n",
       "      <td>Life of Brian</td>\n",
       "      <td>MOVIE</td>\n",
       "      <td>Brian Cohen is an average young Jewish man, bu...</td>\n",
       "      <td>1979</td>\n",
       "      <td>R</td>\n",
       "      <td>94</td>\n",
       "      <td>['comedy']</td>\n",
       "      <td>['GB']</td>\n",
       "      <td>0.0</td>\n",
       "      <td>8.0</td>\n",
       "      <td>392419.0</td>\n",
       "      <td>17.505</td>\n",
       "      <td>7.8</td>\n",
       "    </tr>\n",
       "    <tr>\n",
       "      <th>4</th>\n",
       "      <td>The Exorcist</td>\n",
       "      <td>MOVIE</td>\n",
       "      <td>12-year-old Regan MacNeil begins to adapt an e...</td>\n",
       "      <td>1973</td>\n",
       "      <td>R</td>\n",
       "      <td>133</td>\n",
       "      <td>['horror']</td>\n",
       "      <td>['US']</td>\n",
       "      <td>0.0</td>\n",
       "      <td>8.1</td>\n",
       "      <td>391942.0</td>\n",
       "      <td>95.337</td>\n",
       "      <td>7.7</td>\n",
       "    </tr>\n",
       "    <tr>\n",
       "      <th>...</th>\n",
       "      <td>...</td>\n",
       "      <td>...</td>\n",
       "      <td>...</td>\n",
       "      <td>...</td>\n",
       "      <td>...</td>\n",
       "      <td>...</td>\n",
       "      <td>...</td>\n",
       "      <td>...</td>\n",
       "      <td>...</td>\n",
       "      <td>...</td>\n",
       "      <td>...</td>\n",
       "      <td>...</td>\n",
       "      <td>...</td>\n",
       "    </tr>\n",
       "    <tr>\n",
       "      <th>5801</th>\n",
       "      <td>Fine Wine</td>\n",
       "      <td>MOVIE</td>\n",
       "      <td>A beautiful love story that can happen between...</td>\n",
       "      <td>2021</td>\n",
       "      <td>0</td>\n",
       "      <td>100</td>\n",
       "      <td>['romance', 'drama']</td>\n",
       "      <td>['NG']</td>\n",
       "      <td>0.0</td>\n",
       "      <td>6.9</td>\n",
       "      <td>39.0</td>\n",
       "      <td>0.966</td>\n",
       "      <td>0.0</td>\n",
       "    </tr>\n",
       "    <tr>\n",
       "      <th>5802</th>\n",
       "      <td>Edis Starlight</td>\n",
       "      <td>MOVIE</td>\n",
       "      <td>Rising star Edis's career journey with ups and...</td>\n",
       "      <td>2021</td>\n",
       "      <td>0</td>\n",
       "      <td>74</td>\n",
       "      <td>['music', 'documentation']</td>\n",
       "      <td>[]</td>\n",
       "      <td>0.0</td>\n",
       "      <td>0.0</td>\n",
       "      <td>0.0</td>\n",
       "      <td>1.036</td>\n",
       "      <td>8.5</td>\n",
       "    </tr>\n",
       "    <tr>\n",
       "      <th>5803</th>\n",
       "      <td>Clash</td>\n",
       "      <td>MOVIE</td>\n",
       "      <td>A man from Nigeria returns to his family in Ca...</td>\n",
       "      <td>2021</td>\n",
       "      <td>0</td>\n",
       "      <td>88</td>\n",
       "      <td>['family', 'drama']</td>\n",
       "      <td>['NG', 'CA']</td>\n",
       "      <td>0.0</td>\n",
       "      <td>6.5</td>\n",
       "      <td>32.0</td>\n",
       "      <td>0.709</td>\n",
       "      <td>0.0</td>\n",
       "    </tr>\n",
       "    <tr>\n",
       "      <th>5804</th>\n",
       "      <td>Shadow Parties</td>\n",
       "      <td>MOVIE</td>\n",
       "      <td>A family faces destruction in a long-running c...</td>\n",
       "      <td>2021</td>\n",
       "      <td>0</td>\n",
       "      <td>116</td>\n",
       "      <td>['action', 'thriller']</td>\n",
       "      <td>[]</td>\n",
       "      <td>0.0</td>\n",
       "      <td>6.2</td>\n",
       "      <td>9.0</td>\n",
       "      <td>2.186</td>\n",
       "      <td>0.0</td>\n",
       "    </tr>\n",
       "    <tr>\n",
       "      <th>5805</th>\n",
       "      <td>Mighty Little Bheem: Kite Festival</td>\n",
       "      <td>SHOW</td>\n",
       "      <td>With winter behind them, Bheem and his townspe...</td>\n",
       "      <td>2021</td>\n",
       "      <td>0</td>\n",
       "      <td>0</td>\n",
       "      <td>['family', 'comedy', 'animation']</td>\n",
       "      <td>[]</td>\n",
       "      <td>1.0</td>\n",
       "      <td>8.8</td>\n",
       "      <td>16.0</td>\n",
       "      <td>0.979</td>\n",
       "      <td>10.0</td>\n",
       "    </tr>\n",
       "  </tbody>\n",
       "</table>\n",
       "<p>5806 rows × 13 columns</p>\n",
       "</div>"
      ],
      "text/plain": [
       "                                    title   type  \\\n",
       "0     Five Came Back: The Reference Films   SHOW   \n",
       "1                             Taxi Driver  MOVIE   \n",
       "2         Monty Python and the Holy Grail  MOVIE   \n",
       "3                           Life of Brian  MOVIE   \n",
       "4                            The Exorcist  MOVIE   \n",
       "...                                   ...    ...   \n",
       "5801                            Fine Wine  MOVIE   \n",
       "5802                       Edis Starlight  MOVIE   \n",
       "5803                                Clash  MOVIE   \n",
       "5804                       Shadow Parties  MOVIE   \n",
       "5805   Mighty Little Bheem: Kite Festival   SHOW   \n",
       "\n",
       "                                            description  release_year  \\\n",
       "0     This collection includes 12 World War II-era p...          1945   \n",
       "1     A mentally unstable Vietnam War veteran works ...          1976   \n",
       "2     King Arthur, accompanied by his squire, recrui...          1975   \n",
       "3     Brian Cohen is an average young Jewish man, bu...          1979   \n",
       "4     12-year-old Regan MacNeil begins to adapt an e...          1973   \n",
       "...                                                 ...           ...   \n",
       "5801  A beautiful love story that can happen between...          2021   \n",
       "5802  Rising star Edis's career journey with ups and...          2021   \n",
       "5803  A man from Nigeria returns to his family in Ca...          2021   \n",
       "5804  A family faces destruction in a long-running c...          2021   \n",
       "5805  With winter behind them, Bheem and his townspe...          2021   \n",
       "\n",
       "     age_certification  runtime                             genres  \\\n",
       "0                TV-MA       48                  ['documentation']   \n",
       "1                    R      113                 ['crime', 'drama']   \n",
       "2                   PG       91              ['comedy', 'fantasy']   \n",
       "3                    R       94                         ['comedy']   \n",
       "4                    R      133                         ['horror']   \n",
       "...                ...      ...                                ...   \n",
       "5801                 0      100               ['romance', 'drama']   \n",
       "5802                 0       74         ['music', 'documentation']   \n",
       "5803                 0       88                ['family', 'drama']   \n",
       "5804                 0      116             ['action', 'thriller']   \n",
       "5805                 0        0  ['family', 'comedy', 'animation']   \n",
       "\n",
       "     production_countries  seasons  imdb_score  imdb_votes  tmdb_popularity  \\\n",
       "0                  ['US']      1.0         0.0         0.0            0.600   \n",
       "1                  ['US']      0.0         8.3    795222.0           27.612   \n",
       "2                  ['GB']      0.0         8.2    530877.0           18.216   \n",
       "3                  ['GB']      0.0         8.0    392419.0           17.505   \n",
       "4                  ['US']      0.0         8.1    391942.0           95.337   \n",
       "...                   ...      ...         ...         ...              ...   \n",
       "5801               ['NG']      0.0         6.9        39.0            0.966   \n",
       "5802                   []      0.0         0.0         0.0            1.036   \n",
       "5803         ['NG', 'CA']      0.0         6.5        32.0            0.709   \n",
       "5804                   []      0.0         6.2         9.0            2.186   \n",
       "5805                   []      1.0         8.8        16.0            0.979   \n",
       "\n",
       "      tmdb_score  \n",
       "0            0.0  \n",
       "1            8.2  \n",
       "2            7.8  \n",
       "3            7.8  \n",
       "4            7.7  \n",
       "...          ...  \n",
       "5801         0.0  \n",
       "5802         8.5  \n",
       "5803         0.0  \n",
       "5804         0.0  \n",
       "5805        10.0  \n",
       "\n",
       "[5806 rows x 13 columns]"
      ]
     },
     "execution_count": 32,
     "metadata": {},
     "output_type": "execute_result"
    }
   ],
   "source": [
    "titles_df"
   ]
  },
  {
   "cell_type": "code",
   "execution_count": null,
   "metadata": {},
   "outputs": [],
   "source": []
  },
  {
   "cell_type": "markdown",
   "metadata": {},
   "source": [
    "### Splitting data\n",
    "Given dataset has both movies and shows together. It will be easy for analysis if data split based on type i.e, movie/show. We can analyze individually for both. Hence, now we are splitting dataset into types, one has info about movies and other has about shows. In particular we are looking for the recently released movies/shows 10 of each"
   ]
  },
  {
   "cell_type": "code",
   "execution_count": 34,
   "metadata": {},
   "outputs": [
    {
     "data": {
      "text/plain": [
       "MOVIE    3759\n",
       "SHOW     2047\n",
       "Name: type, dtype: int64"
      ]
     },
     "execution_count": 34,
     "metadata": {},
     "output_type": "execute_result"
    }
   ],
   "source": [
    "releases_type = titles_df.type.value_counts()\n",
    "releases_type"
   ]
  },
  {
   "cell_type": "markdown",
   "metadata": {},
   "source": [
    "There are 3759 movies, and 2047 shows. We can see large content is of type movies but shows are also nearly in comparison with that of movies."
   ]
  },
  {
   "cell_type": "code",
   "execution_count": 35,
   "metadata": {},
   "outputs": [
    {
     "data": {
      "text/plain": [
       "2019    848\n",
       "2020    805\n",
       "2018    774\n",
       "2021    758\n",
       "2017    580\n",
       "       ... \n",
       "1974      1\n",
       "1959      1\n",
       "1962      1\n",
       "1978      1\n",
       "1945      1\n",
       "Name: release_year, Length: 67, dtype: int64"
      ]
     },
     "execution_count": 35,
     "metadata": {},
     "output_type": "execute_result"
    }
   ],
   "source": [
    "release_year_stats = titles_df.release_year.value_counts()\n",
    "release_year_stats"
   ]
  },
  {
   "cell_type": "markdown",
   "metadata": {},
   "source": [
    "Highest number of releases were there in the year 2019 which is post pandemic and followed 2020.\n",
    "\n",
    "For the sake of analysis let us consider a random of 10 of each type movies and shows. "
   ]
  },
  {
   "cell_type": "code",
   "execution_count": 36,
   "metadata": {
    "scrolled": true
   },
   "outputs": [
    {
     "data": {
      "text/html": [
       "<div>\n",
       "<style scoped>\n",
       "    .dataframe tbody tr th:only-of-type {\n",
       "        vertical-align: middle;\n",
       "    }\n",
       "\n",
       "    .dataframe tbody tr th {\n",
       "        vertical-align: top;\n",
       "    }\n",
       "\n",
       "    .dataframe thead th {\n",
       "        text-align: right;\n",
       "    }\n",
       "</style>\n",
       "<table border=\"1\" class=\"dataframe\">\n",
       "  <thead>\n",
       "    <tr style=\"text-align: right;\">\n",
       "      <th></th>\n",
       "      <th>title</th>\n",
       "      <th>type</th>\n",
       "      <th>description</th>\n",
       "      <th>release_year</th>\n",
       "      <th>age_certification</th>\n",
       "      <th>runtime</th>\n",
       "      <th>genres</th>\n",
       "      <th>production_countries</th>\n",
       "      <th>seasons</th>\n",
       "      <th>imdb_score</th>\n",
       "      <th>imdb_votes</th>\n",
       "      <th>tmdb_popularity</th>\n",
       "      <th>tmdb_score</th>\n",
       "    </tr>\n",
       "  </thead>\n",
       "  <tbody>\n",
       "    <tr>\n",
       "      <th>3081</th>\n",
       "      <td>The Lost Café</td>\n",
       "      <td>MOVIE</td>\n",
       "      <td>An uplifting story about a girl's decision to ...</td>\n",
       "      <td>2018</td>\n",
       "      <td>0</td>\n",
       "      <td>76</td>\n",
       "      <td>['drama', 'comedy']</td>\n",
       "      <td>['NO', 'NG']</td>\n",
       "      <td>0.0</td>\n",
       "      <td>6.4</td>\n",
       "      <td>24.0</td>\n",
       "      <td>1.400</td>\n",
       "      <td>5.0</td>\n",
       "    </tr>\n",
       "    <tr>\n",
       "      <th>828</th>\n",
       "      <td>Kyaa Super Kool Hain Hum</td>\n",
       "      <td>MOVIE</td>\n",
       "      <td>An aspiring actor and a struggling DJ team up ...</td>\n",
       "      <td>2012</td>\n",
       "      <td>R</td>\n",
       "      <td>137</td>\n",
       "      <td>['drama', 'comedy']</td>\n",
       "      <td>['IN']</td>\n",
       "      <td>0.0</td>\n",
       "      <td>5.0</td>\n",
       "      <td>3885.0</td>\n",
       "      <td>3.402</td>\n",
       "      <td>5.1</td>\n",
       "    </tr>\n",
       "    <tr>\n",
       "      <th>298</th>\n",
       "      <td>Rambo</td>\n",
       "      <td>MOVIE</td>\n",
       "      <td>When governments fail to act on behalf of capt...</td>\n",
       "      <td>2008</td>\n",
       "      <td>R</td>\n",
       "      <td>92</td>\n",
       "      <td>['thriller', 'action', 'war', 'european']</td>\n",
       "      <td>['US', 'DE']</td>\n",
       "      <td>0.0</td>\n",
       "      <td>7.0</td>\n",
       "      <td>228799.0</td>\n",
       "      <td>58.435</td>\n",
       "      <td>6.6</td>\n",
       "    </tr>\n",
       "    <tr>\n",
       "      <th>3831</th>\n",
       "      <td>Ultras</td>\n",
       "      <td>MOVIE</td>\n",
       "      <td>An aging soccer fanatic faces down the reality...</td>\n",
       "      <td>2020</td>\n",
       "      <td>0</td>\n",
       "      <td>109</td>\n",
       "      <td>['drama']</td>\n",
       "      <td>['IT']</td>\n",
       "      <td>0.0</td>\n",
       "      <td>6.2</td>\n",
       "      <td>4831.0</td>\n",
       "      <td>9.603</td>\n",
       "      <td>6.1</td>\n",
       "    </tr>\n",
       "    <tr>\n",
       "      <th>5571</th>\n",
       "      <td>Carolin Kebekus: The Last Christmas Special</td>\n",
       "      <td>MOVIE</td>\n",
       "      <td>One of the biggest comedians in Germany, Carol...</td>\n",
       "      <td>2021</td>\n",
       "      <td>0</td>\n",
       "      <td>66</td>\n",
       "      <td>['comedy']</td>\n",
       "      <td>[]</td>\n",
       "      <td>0.0</td>\n",
       "      <td>4.7</td>\n",
       "      <td>97.0</td>\n",
       "      <td>2.394</td>\n",
       "      <td>5.3</td>\n",
       "    </tr>\n",
       "    <tr>\n",
       "      <th>4868</th>\n",
       "      <td>The Lost Daughter</td>\n",
       "      <td>MOVIE</td>\n",
       "      <td>A woman's seaside vacation takes a dark turn w...</td>\n",
       "      <td>2021</td>\n",
       "      <td>R</td>\n",
       "      <td>122</td>\n",
       "      <td>['drama']</td>\n",
       "      <td>['GB', 'US', 'GR']</td>\n",
       "      <td>0.0</td>\n",
       "      <td>6.7</td>\n",
       "      <td>56650.0</td>\n",
       "      <td>46.069</td>\n",
       "      <td>6.6</td>\n",
       "    </tr>\n",
       "    <tr>\n",
       "      <th>3595</th>\n",
       "      <td>Making The Witcher</td>\n",
       "      <td>MOVIE</td>\n",
       "      <td>Journey into the extraordinary world of \"The W...</td>\n",
       "      <td>2020</td>\n",
       "      <td>PG-13</td>\n",
       "      <td>32</td>\n",
       "      <td>['documentation']</td>\n",
       "      <td>['GB']</td>\n",
       "      <td>0.0</td>\n",
       "      <td>6.8</td>\n",
       "      <td>442.0</td>\n",
       "      <td>20.910</td>\n",
       "      <td>7.7</td>\n",
       "    </tr>\n",
       "    <tr>\n",
       "      <th>993</th>\n",
       "      <td>The November Man</td>\n",
       "      <td>MOVIE</td>\n",
       "      <td>An ex-CIA operative is brought back in on a ve...</td>\n",
       "      <td>2014</td>\n",
       "      <td>R</td>\n",
       "      <td>108</td>\n",
       "      <td>['crime', 'action', 'thriller']</td>\n",
       "      <td>['GB', 'US']</td>\n",
       "      <td>0.0</td>\n",
       "      <td>6.3</td>\n",
       "      <td>67243.0</td>\n",
       "      <td>14.820</td>\n",
       "      <td>6.1</td>\n",
       "    </tr>\n",
       "    <tr>\n",
       "      <th>1978</th>\n",
       "      <td>A Futile and Stupid Gesture</td>\n",
       "      <td>MOVIE</td>\n",
       "      <td>The National Lampoon name became globally reco...</td>\n",
       "      <td>2018</td>\n",
       "      <td>0</td>\n",
       "      <td>101</td>\n",
       "      <td>['comedy']</td>\n",
       "      <td>['US']</td>\n",
       "      <td>0.0</td>\n",
       "      <td>6.7</td>\n",
       "      <td>15750.0</td>\n",
       "      <td>12.272</td>\n",
       "      <td>6.5</td>\n",
       "    </tr>\n",
       "    <tr>\n",
       "      <th>3015</th>\n",
       "      <td>Son Of Adam</td>\n",
       "      <td>MOVIE</td>\n",
       "      <td>To escape conviction on criminal charges, a bu...</td>\n",
       "      <td>2018</td>\n",
       "      <td>0</td>\n",
       "      <td>109</td>\n",
       "      <td>['thriller']</td>\n",
       "      <td>['EG']</td>\n",
       "      <td>0.0</td>\n",
       "      <td>0.0</td>\n",
       "      <td>0.0</td>\n",
       "      <td>1.459</td>\n",
       "      <td>6.0</td>\n",
       "    </tr>\n",
       "  </tbody>\n",
       "</table>\n",
       "</div>"
      ],
      "text/plain": [
       "                                            title   type  \\\n",
       "3081                                The Lost Café  MOVIE   \n",
       "828                      Kyaa Super Kool Hain Hum  MOVIE   \n",
       "298                                         Rambo  MOVIE   \n",
       "3831                                       Ultras  MOVIE   \n",
       "5571  Carolin Kebekus: The Last Christmas Special  MOVIE   \n",
       "4868                            The Lost Daughter  MOVIE   \n",
       "3595                           Making The Witcher  MOVIE   \n",
       "993                              The November Man  MOVIE   \n",
       "1978                  A Futile and Stupid Gesture  MOVIE   \n",
       "3015                                  Son Of Adam  MOVIE   \n",
       "\n",
       "                                            description  release_year  \\\n",
       "3081  An uplifting story about a girl's decision to ...          2018   \n",
       "828   An aspiring actor and a struggling DJ team up ...          2012   \n",
       "298   When governments fail to act on behalf of capt...          2008   \n",
       "3831  An aging soccer fanatic faces down the reality...          2020   \n",
       "5571  One of the biggest comedians in Germany, Carol...          2021   \n",
       "4868  A woman's seaside vacation takes a dark turn w...          2021   \n",
       "3595  Journey into the extraordinary world of \"The W...          2020   \n",
       "993   An ex-CIA operative is brought back in on a ve...          2014   \n",
       "1978  The National Lampoon name became globally reco...          2018   \n",
       "3015  To escape conviction on criminal charges, a bu...          2018   \n",
       "\n",
       "     age_certification  runtime                                     genres  \\\n",
       "3081                 0       76                        ['drama', 'comedy']   \n",
       "828                  R      137                        ['drama', 'comedy']   \n",
       "298                  R       92  ['thriller', 'action', 'war', 'european']   \n",
       "3831                 0      109                                  ['drama']   \n",
       "5571                 0       66                                 ['comedy']   \n",
       "4868                 R      122                                  ['drama']   \n",
       "3595             PG-13       32                          ['documentation']   \n",
       "993                  R      108            ['crime', 'action', 'thriller']   \n",
       "1978                 0      101                                 ['comedy']   \n",
       "3015                 0      109                               ['thriller']   \n",
       "\n",
       "     production_countries  seasons  imdb_score  imdb_votes  tmdb_popularity  \\\n",
       "3081         ['NO', 'NG']      0.0         6.4        24.0            1.400   \n",
       "828                ['IN']      0.0         5.0      3885.0            3.402   \n",
       "298          ['US', 'DE']      0.0         7.0    228799.0           58.435   \n",
       "3831               ['IT']      0.0         6.2      4831.0            9.603   \n",
       "5571                   []      0.0         4.7        97.0            2.394   \n",
       "4868   ['GB', 'US', 'GR']      0.0         6.7     56650.0           46.069   \n",
       "3595               ['GB']      0.0         6.8       442.0           20.910   \n",
       "993          ['GB', 'US']      0.0         6.3     67243.0           14.820   \n",
       "1978               ['US']      0.0         6.7     15750.0           12.272   \n",
       "3015               ['EG']      0.0         0.0         0.0            1.459   \n",
       "\n",
       "      tmdb_score  \n",
       "3081         5.0  \n",
       "828          5.1  \n",
       "298          6.6  \n",
       "3831         6.1  \n",
       "5571         5.3  \n",
       "4868         6.6  \n",
       "3595         7.7  \n",
       "993          6.1  \n",
       "1978         6.5  \n",
       "3015         6.0  "
      ]
     },
     "execution_count": 36,
     "metadata": {},
     "output_type": "execute_result"
    }
   ],
   "source": [
    "movies_df = titles_df[titles_df.type == 'MOVIE'].sample(10)\n",
    "movies_df"
   ]
  },
  {
   "cell_type": "code",
   "execution_count": 37,
   "metadata": {},
   "outputs": [
    {
     "data": {
      "text/html": [
       "<div>\n",
       "<style scoped>\n",
       "    .dataframe tbody tr th:only-of-type {\n",
       "        vertical-align: middle;\n",
       "    }\n",
       "\n",
       "    .dataframe tbody tr th {\n",
       "        vertical-align: top;\n",
       "    }\n",
       "\n",
       "    .dataframe thead th {\n",
       "        text-align: right;\n",
       "    }\n",
       "</style>\n",
       "<table border=\"1\" class=\"dataframe\">\n",
       "  <thead>\n",
       "    <tr style=\"text-align: right;\">\n",
       "      <th></th>\n",
       "      <th>title</th>\n",
       "      <th>type</th>\n",
       "      <th>description</th>\n",
       "      <th>release_year</th>\n",
       "      <th>age_certification</th>\n",
       "      <th>runtime</th>\n",
       "      <th>genres</th>\n",
       "      <th>production_countries</th>\n",
       "      <th>seasons</th>\n",
       "      <th>imdb_score</th>\n",
       "      <th>imdb_votes</th>\n",
       "      <th>tmdb_popularity</th>\n",
       "      <th>tmdb_score</th>\n",
       "    </tr>\n",
       "  </thead>\n",
       "  <tbody>\n",
       "    <tr>\n",
       "      <th>3131</th>\n",
       "      <td>Pretty Man</td>\n",
       "      <td>SHOW</td>\n",
       "      <td>It tells the love story of Lu Jin Nian and Qia...</td>\n",
       "      <td>2018</td>\n",
       "      <td>TV-14</td>\n",
       "      <td>35</td>\n",
       "      <td>['family']</td>\n",
       "      <td>['CN']</td>\n",
       "      <td>2.0</td>\n",
       "      <td>0.0</td>\n",
       "      <td>0.0</td>\n",
       "      <td>4.429</td>\n",
       "      <td>8.5</td>\n",
       "    </tr>\n",
       "    <tr>\n",
       "      <th>134</th>\n",
       "      <td>InuYasha</td>\n",
       "      <td>SHOW</td>\n",
       "      <td>Kagome Higurashi is a modern day young girl wh...</td>\n",
       "      <td>2000</td>\n",
       "      <td>TV-14</td>\n",
       "      <td>25</td>\n",
       "      <td>['action', 'comedy', 'scifi', 'animation', 'dr...</td>\n",
       "      <td>['JP']</td>\n",
       "      <td>9.0</td>\n",
       "      <td>7.9</td>\n",
       "      <td>15823.0</td>\n",
       "      <td>149.742</td>\n",
       "      <td>8.6</td>\n",
       "    </tr>\n",
       "    <tr>\n",
       "      <th>3868</th>\n",
       "      <td>Jinn</td>\n",
       "      <td>SHOW</td>\n",
       "      <td>The lives of a group of teenagers are disrupte...</td>\n",
       "      <td>2019</td>\n",
       "      <td>TV-14</td>\n",
       "      <td>32</td>\n",
       "      <td>['scifi', 'drama', 'fantasy', 'horror', 'thril...</td>\n",
       "      <td>['JO']</td>\n",
       "      <td>1.0</td>\n",
       "      <td>3.5</td>\n",
       "      <td>10043.0</td>\n",
       "      <td>6.461</td>\n",
       "      <td>6.5</td>\n",
       "    </tr>\n",
       "    <tr>\n",
       "      <th>2832</th>\n",
       "      <td>Wrong Kind of Black</td>\n",
       "      <td>SHOW</td>\n",
       "      <td>From the crocs and cops of 1960s Queensland to...</td>\n",
       "      <td>2018</td>\n",
       "      <td>TV-MA</td>\n",
       "      <td>16</td>\n",
       "      <td>['comedy', 'drama']</td>\n",
       "      <td>['AU']</td>\n",
       "      <td>1.0</td>\n",
       "      <td>7.7</td>\n",
       "      <td>148.0</td>\n",
       "      <td>1.033</td>\n",
       "      <td>7.5</td>\n",
       "    </tr>\n",
       "    <tr>\n",
       "      <th>5016</th>\n",
       "      <td>Midnight at the Pera Palace</td>\n",
       "      <td>SHOW</td>\n",
       "      <td>At a historic Istanbul hotel, a journalist is ...</td>\n",
       "      <td>2022</td>\n",
       "      <td>TV-14</td>\n",
       "      <td>44</td>\n",
       "      <td>['crime', 'drama', 'history']</td>\n",
       "      <td>['TR']</td>\n",
       "      <td>1.0</td>\n",
       "      <td>7.1</td>\n",
       "      <td>6624.0</td>\n",
       "      <td>6.780</td>\n",
       "      <td>7.2</td>\n",
       "    </tr>\n",
       "    <tr>\n",
       "      <th>5127</th>\n",
       "      <td>Bulgasal: Immortal Souls</td>\n",
       "      <td>SHOW</td>\n",
       "      <td>The story of a woman who has gone through seve...</td>\n",
       "      <td>2021</td>\n",
       "      <td>TV-MA</td>\n",
       "      <td>71</td>\n",
       "      <td>['scifi', 'thriller', 'drama', 'fantasy']</td>\n",
       "      <td>['KR']</td>\n",
       "      <td>1.0</td>\n",
       "      <td>7.4</td>\n",
       "      <td>1897.0</td>\n",
       "      <td>41.943</td>\n",
       "      <td>8.1</td>\n",
       "    </tr>\n",
       "    <tr>\n",
       "      <th>3490</th>\n",
       "      <td>The Chef Show</td>\n",
       "      <td>SHOW</td>\n",
       "      <td>Writer, director and food enthusiast Jon Favre...</td>\n",
       "      <td>2019</td>\n",
       "      <td>TV-MA</td>\n",
       "      <td>26</td>\n",
       "      <td>['documentation']</td>\n",
       "      <td>['US']</td>\n",
       "      <td>2.0</td>\n",
       "      <td>8.2</td>\n",
       "      <td>5025.0</td>\n",
       "      <td>14.612</td>\n",
       "      <td>7.8</td>\n",
       "    </tr>\n",
       "    <tr>\n",
       "      <th>5320</th>\n",
       "      <td>Elite Short Stories: Omar Ander Alexis</td>\n",
       "      <td>SHOW</td>\n",
       "      <td>Now in remission, Ander is set on spending his...</td>\n",
       "      <td>2021</td>\n",
       "      <td>TV-MA</td>\n",
       "      <td>12</td>\n",
       "      <td>['drama', 'crime', 'thriller']</td>\n",
       "      <td>['ES']</td>\n",
       "      <td>1.0</td>\n",
       "      <td>7.3</td>\n",
       "      <td>1903.0</td>\n",
       "      <td>30.602</td>\n",
       "      <td>7.7</td>\n",
       "    </tr>\n",
       "    <tr>\n",
       "      <th>5261</th>\n",
       "      <td>Aranyak</td>\n",
       "      <td>SHOW</td>\n",
       "      <td>After a foreign teenage tourist goes missing i...</td>\n",
       "      <td>2021</td>\n",
       "      <td>TV-MA</td>\n",
       "      <td>41</td>\n",
       "      <td>['crime', 'thriller', 'drama']</td>\n",
       "      <td>['IN']</td>\n",
       "      <td>1.0</td>\n",
       "      <td>7.9</td>\n",
       "      <td>7629.0</td>\n",
       "      <td>5.317</td>\n",
       "      <td>7.7</td>\n",
       "    </tr>\n",
       "    <tr>\n",
       "      <th>2129</th>\n",
       "      <td>Sisters</td>\n",
       "      <td>SHOW</td>\n",
       "      <td>Sisters follows the story of three women who d...</td>\n",
       "      <td>2017</td>\n",
       "      <td>TV-14</td>\n",
       "      <td>36</td>\n",
       "      <td>['drama', 'comedy']</td>\n",
       "      <td>['AU']</td>\n",
       "      <td>1.0</td>\n",
       "      <td>7.5</td>\n",
       "      <td>1729.0</td>\n",
       "      <td>2.170</td>\n",
       "      <td>8.6</td>\n",
       "    </tr>\n",
       "  </tbody>\n",
       "</table>\n",
       "</div>"
      ],
      "text/plain": [
       "                                       title  type  \\\n",
       "3131                              Pretty Man  SHOW   \n",
       "134                                 InuYasha  SHOW   \n",
       "3868                                    Jinn  SHOW   \n",
       "2832                     Wrong Kind of Black  SHOW   \n",
       "5016             Midnight at the Pera Palace  SHOW   \n",
       "5127                Bulgasal: Immortal Souls  SHOW   \n",
       "3490                           The Chef Show  SHOW   \n",
       "5320  Elite Short Stories: Omar Ander Alexis  SHOW   \n",
       "5261                                 Aranyak  SHOW   \n",
       "2129                                 Sisters  SHOW   \n",
       "\n",
       "                                            description  release_year  \\\n",
       "3131  It tells the love story of Lu Jin Nian and Qia...          2018   \n",
       "134   Kagome Higurashi is a modern day young girl wh...          2000   \n",
       "3868  The lives of a group of teenagers are disrupte...          2019   \n",
       "2832  From the crocs and cops of 1960s Queensland to...          2018   \n",
       "5016  At a historic Istanbul hotel, a journalist is ...          2022   \n",
       "5127  The story of a woman who has gone through seve...          2021   \n",
       "3490  Writer, director and food enthusiast Jon Favre...          2019   \n",
       "5320  Now in remission, Ander is set on spending his...          2021   \n",
       "5261  After a foreign teenage tourist goes missing i...          2021   \n",
       "2129  Sisters follows the story of three women who d...          2017   \n",
       "\n",
       "     age_certification  runtime  \\\n",
       "3131             TV-14       35   \n",
       "134              TV-14       25   \n",
       "3868             TV-14       32   \n",
       "2832             TV-MA       16   \n",
       "5016             TV-14       44   \n",
       "5127             TV-MA       71   \n",
       "3490             TV-MA       26   \n",
       "5320             TV-MA       12   \n",
       "5261             TV-MA       41   \n",
       "2129             TV-14       36   \n",
       "\n",
       "                                                 genres production_countries  \\\n",
       "3131                                         ['family']               ['CN']   \n",
       "134   ['action', 'comedy', 'scifi', 'animation', 'dr...               ['JP']   \n",
       "3868  ['scifi', 'drama', 'fantasy', 'horror', 'thril...               ['JO']   \n",
       "2832                                ['comedy', 'drama']               ['AU']   \n",
       "5016                      ['crime', 'drama', 'history']               ['TR']   \n",
       "5127          ['scifi', 'thriller', 'drama', 'fantasy']               ['KR']   \n",
       "3490                                  ['documentation']               ['US']   \n",
       "5320                     ['drama', 'crime', 'thriller']               ['ES']   \n",
       "5261                     ['crime', 'thriller', 'drama']               ['IN']   \n",
       "2129                                ['drama', 'comedy']               ['AU']   \n",
       "\n",
       "      seasons  imdb_score  imdb_votes  tmdb_popularity  tmdb_score  \n",
       "3131      2.0         0.0         0.0            4.429         8.5  \n",
       "134       9.0         7.9     15823.0          149.742         8.6  \n",
       "3868      1.0         3.5     10043.0            6.461         6.5  \n",
       "2832      1.0         7.7       148.0            1.033         7.5  \n",
       "5016      1.0         7.1      6624.0            6.780         7.2  \n",
       "5127      1.0         7.4      1897.0           41.943         8.1  \n",
       "3490      2.0         8.2      5025.0           14.612         7.8  \n",
       "5320      1.0         7.3      1903.0           30.602         7.7  \n",
       "5261      1.0         7.9      7629.0            5.317         7.7  \n",
       "2129      1.0         7.5      1729.0            2.170         8.6  "
      ]
     },
     "execution_count": 37,
     "metadata": {},
     "output_type": "execute_result"
    }
   ],
   "source": [
    "shows_df = titles_df[titles_df.type == 'SHOW'].sample(10)\n",
    "shows_df"
   ]
  },
  {
   "cell_type": "markdown",
   "metadata": {},
   "source": [
    "We have another interesting topic to look for which is genre.\n",
    "\n",
    "here is the list of genres available in the given dataset of MOVIES."
   ]
  },
  {
   "cell_type": "code",
   "execution_count": 43,
   "metadata": {},
   "outputs": [
    {
     "data": {
      "text/plain": [
       "array([\"['drama', 'comedy']\", \"['thriller', 'action', 'war', 'european']\",\n",
       "       \"['drama']\", \"['comedy']\", \"['documentation']\",\n",
       "       \"['crime', 'action', 'thriller']\", \"['thriller']\"], dtype=object)"
      ]
     },
     "execution_count": 43,
     "metadata": {},
     "output_type": "execute_result"
    }
   ],
   "source": [
    "genre_df = movies_df.genres.unique()\n",
    "genre_df"
   ]
  },
  {
   "cell_type": "markdown",
   "metadata": {},
   "source": [
    "we will see a SCATTERPLOT on runtime vs imdb score for a movie"
   ]
  },
  {
   "cell_type": "code",
   "execution_count": 86,
   "metadata": {},
   "outputs": [
    {
     "name": "stderr",
     "output_type": "stream",
     "text": [
      "/opt/conda/lib/python3.9/site-packages/seaborn/_decorators.py:36: FutureWarning: Pass the following variables as keyword args: x, y. From version 0.12, the only valid positional argument will be `data`, and passing other arguments without an explicit keyword will result in an error or misinterpretation.\n",
      "  warnings.warn(\n"
     ]
    },
    {
     "data": {
      "image/png": "[encoded data removed]",
      "text/plain": [
       "<Figure size 648x360 with 1 Axes>"
      ]
     },
     "metadata": {
      "needs_background": "light"
     },
     "output_type": "display_data"
    }
   ],
   "source": [
    "sns.scatterplot(titles_df.imdb_votes, titles_df.imdb_score, s =30)\n",
    "plt.title('imdb votes vs imdb score ');"
   ]
  },
  {
   "cell_type": "markdown",
   "metadata": {},
   "source": [
    "It is seen that mostly imdb score is given by the less people(i.e, less votes were polled) for Imdb score of range 5 to 9 is mostly given by less than 200000 people."
   ]
  },
  {
   "cell_type": "code",
   "execution_count": 73,
   "metadata": {},
   "outputs": [
    {
     "name": "stderr",
     "output_type": "stream",
     "text": [
      "/opt/conda/lib/python3.9/site-packages/seaborn/_decorators.py:36: FutureWarning: Pass the following variable as a keyword arg: x. From version 0.12, the only valid positional argument will be `data`, and passing other arguments without an explicit keyword will result in an error or misinterpretation.\n",
      "  warnings.warn(\n"
     ]
    },
    {
     "data": {
      "image/png": "[encoded data removed]",
      "text/plain": [
       "<Figure size 504x360 with 1 Axes>"
      ]
     },
     "metadata": {
      "needs_background": "light"
     },
     "output_type": "display_data"
    }
   ],
   "source": [
    "plt.figure(figsize=(7,5))\n",
    "g = sns.countplot(titles_df.type);\n",
    "plt.title(\"Count of Movies and TV Shows\")\n",
    "plt.xlabel(\"Type (Movie/TV Show)\")\n",
    "plt.ylabel(\"Total Count\")\n",
    "plt.show()"
   ]
  },
  {
   "cell_type": "markdown",
   "metadata": {},
   "source": [
    "From the above graph, we can see that netflix is preferring a movie over a show(these were of recently released, 10 of each type). There were around 3700 movies while shows being 2100.\n",
    "This can be due to people are preferring movies than shows as shows can last for hours(in case if it has seasons) but movie run time is almost fixed(which will be around 2 to 3 hrs). \n",
    "\n",
    "We will also be looking at the piechart but with same data as above plot."
   ]
  },
  {
   "cell_type": "code",
   "execution_count": 74,
   "metadata": {},
   "outputs": [
    {
     "data": {
      "image/png": "[encoded data removed]",
      "text/plain": [
       "<Figure size 864x432 with 1 Axes>"
      ]
     },
     "metadata": {},
     "output_type": "display_data"
    }
   ],
   "source": [
    "plt.figure(figsize=(12,6))\n",
    "plt.title(\"% of Netflix Titles that are either Movies or TV Shows\")\n",
    "plt.pie(titles_df.type.value_counts(), labels=titles_df.type.value_counts().index, autopct='%1.1f%%', startangle=180);\n",
    "plt.legend();"
   ]
  },
  {
   "cell_type": "code",
   "execution_count": 84,
   "metadata": {},
   "outputs": [],
   "source": [
    "Imdb_ratings_df = movies_df.imdb_score\n",
    "Tmdb_ratings_df = movies_df.tmdb_score\n"
   ]
  },
  {
   "cell_type": "markdown",
   "metadata": {},
   "source": [
    "Ratings seems to be ok. There were films with a good rating and bad ratings as well. Mostly there are of decent rating."
   ]
  },
  {
   "cell_type": "code",
   "execution_count": 90,
   "metadata": {},
   "outputs": [
    {
     "name": "stderr",
     "output_type": "stream",
     "text": [
      "/opt/conda/lib/python3.9/site-packages/seaborn/_decorators.py:36: FutureWarning: Pass the following variables as keyword args: x, y. From version 0.12, the only valid positional argument will be `data`, and passing other arguments without an explicit keyword will result in an error or misinterpretation.\n",
      "  warnings.warn(\n"
     ]
    },
    {
     "data": {
      "image/png": "[encoded data removed]",
      "text/plain": [
       "<Figure size 648x360 with 1 Axes>"
      ]
     },
     "metadata": {
      "needs_background": "light"
     },
     "output_type": "display_data"
    }
   ],
   "source": [
    "sns.scatterplot(Imdb_ratings_df, Tmdb_ratings_df, s=100)\n",
    "plt.title('Imdb score vs Tmdb score');"
   ]
  },
  {
   "cell_type": "markdown",
   "metadata": {},
   "source": [
    "Recently released 100 movies and shows ratings"
   ]
  },
  {
   "cell_type": "code",
   "execution_count": 92,
   "metadata": {},
   "outputs": [
    {
     "data": {
      "text/html": [
       "<div>\n",
       "<style scoped>\n",
       "    .dataframe tbody tr th:only-of-type {\n",
       "        vertical-align: middle;\n",
       "    }\n",
       "\n",
       "    .dataframe tbody tr th {\n",
       "        vertical-align: top;\n",
       "    }\n",
       "\n",
       "    .dataframe thead th {\n",
       "        text-align: right;\n",
       "    }\n",
       "</style>\n",
       "<table border=\"1\" class=\"dataframe\">\n",
       "  <thead>\n",
       "    <tr style=\"text-align: right;\">\n",
       "      <th></th>\n",
       "      <th>runtime</th>\n",
       "      <th>seasons</th>\n",
       "      <th>imdb_score</th>\n",
       "      <th>tmdb_score</th>\n",
       "    </tr>\n",
       "    <tr>\n",
       "      <th>type</th>\n",
       "      <th></th>\n",
       "      <th></th>\n",
       "      <th></th>\n",
       "      <th></th>\n",
       "    </tr>\n",
       "  </thead>\n",
       "  <tbody>\n",
       "    <tr>\n",
       "      <th>MOVIE</th>\n",
       "      <td>92.256757</td>\n",
       "      <td>0.000000</td>\n",
       "      <td>4.306757</td>\n",
       "      <td>5.274324</td>\n",
       "    </tr>\n",
       "    <tr>\n",
       "      <th>SHOW</th>\n",
       "      <td>32.576923</td>\n",
       "      <td>1.038462</td>\n",
       "      <td>4.084615</td>\n",
       "      <td>5.253846</td>\n",
       "    </tr>\n",
       "  </tbody>\n",
       "</table>\n",
       "</div>"
      ],
      "text/plain": [
       "         runtime   seasons  imdb_score  tmdb_score\n",
       "type                                              \n",
       "MOVIE  92.256757  0.000000    4.306757    5.274324\n",
       "SHOW   32.576923  1.038462    4.084615    5.253846"
      ]
     },
     "execution_count": 92,
     "metadata": {},
     "output_type": "execute_result"
    }
   ],
   "source": [
    "recent_releases = titles_df.tail(100)\n",
    "recent_releases.groupby('type')[['runtime','seasons','imdb_score', 'tmdb_score']].mean()"
   ]
  },
  {
   "cell_type": "markdown",
   "metadata": {},
   "source": [
    "We can see a decent rating for both the types(movies and tv shows). Average run time of movies is 92 min while that of a show being 32 min."
   ]
  },
  {
   "cell_type": "code",
   "execution_count": 106,
   "metadata": {},
   "outputs": [
    {
     "data": {
      "image/png": "[encoded data removed]",
      "text/plain": [
       "<Figure size 648x360 with 1 Axes>"
      ]
     },
     "metadata": {
      "needs_background": "light"
     },
     "output_type": "display_data"
    }
   ],
   "source": [
    "plt.plot(recent_releases.imdb_score);"
   ]
  },
  {
   "cell_type": "code",
   "execution_count": 108,
   "metadata": {},
   "outputs": [
    {
     "data": {
      "text/html": [
       "<div>\n",
       "<style scoped>\n",
       "    .dataframe tbody tr th:only-of-type {\n",
       "        vertical-align: middle;\n",
       "    }\n",
       "\n",
       "    .dataframe tbody tr th {\n",
       "        vertical-align: top;\n",
       "    }\n",
       "\n",
       "    .dataframe thead th {\n",
       "        text-align: right;\n",
       "    }\n",
       "</style>\n",
       "<table border=\"1\" class=\"dataframe\">\n",
       "  <thead>\n",
       "    <tr style=\"text-align: right;\">\n",
       "      <th></th>\n",
       "      <th>type</th>\n",
       "      <th>seasons</th>\n",
       "      <th>runtime</th>\n",
       "      <th>imdb_score</th>\n",
       "      <th>tmdb_score</th>\n",
       "    </tr>\n",
       "  </thead>\n",
       "  <tbody>\n",
       "    <tr>\n",
       "      <th>4847</th>\n",
       "      <td>SHOW</td>\n",
       "      <td>1.0</td>\n",
       "      <td>41</td>\n",
       "      <td>9.1</td>\n",
       "      <td>9.1</td>\n",
       "    </tr>\n",
       "    <tr>\n",
       "      <th>5805</th>\n",
       "      <td>SHOW</td>\n",
       "      <td>1.0</td>\n",
       "      <td>0</td>\n",
       "      <td>8.8</td>\n",
       "      <td>10.0</td>\n",
       "    </tr>\n",
       "    <tr>\n",
       "      <th>5459</th>\n",
       "      <td>SHOW</td>\n",
       "      <td>1.0</td>\n",
       "      <td>64</td>\n",
       "      <td>8.8</td>\n",
       "      <td>8.5</td>\n",
       "    </tr>\n",
       "    <tr>\n",
       "      <th>5215</th>\n",
       "      <td>SHOW</td>\n",
       "      <td>1.0</td>\n",
       "      <td>19</td>\n",
       "      <td>8.7</td>\n",
       "      <td>8.4</td>\n",
       "    </tr>\n",
       "    <tr>\n",
       "      <th>4944</th>\n",
       "      <td>MOVIE</td>\n",
       "      <td>0.0</td>\n",
       "      <td>87</td>\n",
       "      <td>8.7</td>\n",
       "      <td>8.3</td>\n",
       "    </tr>\n",
       "    <tr>\n",
       "      <th>5242</th>\n",
       "      <td>SHOW</td>\n",
       "      <td>1.0</td>\n",
       "      <td>52</td>\n",
       "      <td>8.6</td>\n",
       "      <td>7.8</td>\n",
       "    </tr>\n",
       "    <tr>\n",
       "      <th>5512</th>\n",
       "      <td>MOVIE</td>\n",
       "      <td>0.0</td>\n",
       "      <td>84</td>\n",
       "      <td>8.6</td>\n",
       "      <td>0.0</td>\n",
       "    </tr>\n",
       "    <tr>\n",
       "      <th>5042</th>\n",
       "      <td>SHOW</td>\n",
       "      <td>1.0</td>\n",
       "      <td>78</td>\n",
       "      <td>8.5</td>\n",
       "      <td>8.2</td>\n",
       "    </tr>\n",
       "    <tr>\n",
       "      <th>5271</th>\n",
       "      <td>SHOW</td>\n",
       "      <td>1.0</td>\n",
       "      <td>22</td>\n",
       "      <td>8.4</td>\n",
       "      <td>7.8</td>\n",
       "    </tr>\n",
       "    <tr>\n",
       "      <th>5152</th>\n",
       "      <td>SHOW</td>\n",
       "      <td>1.0</td>\n",
       "      <td>44</td>\n",
       "      <td>8.4</td>\n",
       "      <td>9.4</td>\n",
       "    </tr>\n",
       "    <tr>\n",
       "      <th>4874</th>\n",
       "      <td>SHOW</td>\n",
       "      <td>1.0</td>\n",
       "      <td>54</td>\n",
       "      <td>8.4</td>\n",
       "      <td>7.9</td>\n",
       "    </tr>\n",
       "    <tr>\n",
       "      <th>5007</th>\n",
       "      <td>SHOW</td>\n",
       "      <td>1.0</td>\n",
       "      <td>81</td>\n",
       "      <td>8.4</td>\n",
       "      <td>8.8</td>\n",
       "    </tr>\n",
       "    <tr>\n",
       "      <th>5544</th>\n",
       "      <td>MOVIE</td>\n",
       "      <td>0.0</td>\n",
       "      <td>115</td>\n",
       "      <td>8.3</td>\n",
       "      <td>8.0</td>\n",
       "    </tr>\n",
       "    <tr>\n",
       "      <th>4945</th>\n",
       "      <td>SHOW</td>\n",
       "      <td>1.0</td>\n",
       "      <td>45</td>\n",
       "      <td>8.3</td>\n",
       "      <td>8.9</td>\n",
       "    </tr>\n",
       "    <tr>\n",
       "      <th>5591</th>\n",
       "      <td>SHOW</td>\n",
       "      <td>1.0</td>\n",
       "      <td>51</td>\n",
       "      <td>8.3</td>\n",
       "      <td>9.0</td>\n",
       "    </tr>\n",
       "    <tr>\n",
       "      <th>5251</th>\n",
       "      <td>SHOW</td>\n",
       "      <td>1.0</td>\n",
       "      <td>60</td>\n",
       "      <td>8.3</td>\n",
       "      <td>7.7</td>\n",
       "    </tr>\n",
       "    <tr>\n",
       "      <th>4978</th>\n",
       "      <td>SHOW</td>\n",
       "      <td>1.0</td>\n",
       "      <td>51</td>\n",
       "      <td>8.2</td>\n",
       "      <td>7.6</td>\n",
       "    </tr>\n",
       "    <tr>\n",
       "      <th>5388</th>\n",
       "      <td>SHOW</td>\n",
       "      <td>1.0</td>\n",
       "      <td>51</td>\n",
       "      <td>8.2</td>\n",
       "      <td>7.9</td>\n",
       "    </tr>\n",
       "    <tr>\n",
       "      <th>5680</th>\n",
       "      <td>SHOW</td>\n",
       "      <td>1.0</td>\n",
       "      <td>60</td>\n",
       "      <td>8.2</td>\n",
       "      <td>0.0</td>\n",
       "    </tr>\n",
       "    <tr>\n",
       "      <th>5177</th>\n",
       "      <td>MOVIE</td>\n",
       "      <td>0.0</td>\n",
       "      <td>158</td>\n",
       "      <td>8.1</td>\n",
       "      <td>7.2</td>\n",
       "    </tr>\n",
       "  </tbody>\n",
       "</table>\n",
       "</div>"
      ],
      "text/plain": [
       "       type  seasons  runtime  imdb_score  tmdb_score\n",
       "4847   SHOW      1.0       41         9.1         9.1\n",
       "5805   SHOW      1.0        0         8.8        10.0\n",
       "5459   SHOW      1.0       64         8.8         8.5\n",
       "5215   SHOW      1.0       19         8.7         8.4\n",
       "4944  MOVIE      0.0       87         8.7         8.3\n",
       "5242   SHOW      1.0       52         8.6         7.8\n",
       "5512  MOVIE      0.0       84         8.6         0.0\n",
       "5042   SHOW      1.0       78         8.5         8.2\n",
       "5271   SHOW      1.0       22         8.4         7.8\n",
       "5152   SHOW      1.0       44         8.4         9.4\n",
       "4874   SHOW      1.0       54         8.4         7.9\n",
       "5007   SHOW      1.0       81         8.4         8.8\n",
       "5544  MOVIE      0.0      115         8.3         8.0\n",
       "4945   SHOW      1.0       45         8.3         8.9\n",
       "5591   SHOW      1.0       51         8.3         9.0\n",
       "5251   SHOW      1.0       60         8.3         7.7\n",
       "4978   SHOW      1.0       51         8.2         7.6\n",
       "5388   SHOW      1.0       51         8.2         7.9\n",
       "5680   SHOW      1.0       60         8.2         0.0\n",
       "5177  MOVIE      0.0      158         8.1         7.2"
      ]
     },
     "execution_count": 108,
     "metadata": {},
     "output_type": "execute_result"
    }
   ],
   "source": [
    "releases_in_2021 = titles_df[titles_df.release_year == 2021][['type','seasons','runtime','imdb_score', 'tmdb_score']]\n",
    "top_Imdbrated_releases_in_2021 = releases_in_2021.sort_values('imdb_score', ascending = False).head(20)\n",
    "top_Imdbrated_releases_in_2021"
   ]
  },
  {
   "cell_type": "code",
   "execution_count": 109,
   "metadata": {},
   "outputs": [
    {
     "data": {
      "text/plain": [
       "'Arcane'"
      ]
     },
     "execution_count": 109,
     "metadata": {},
     "output_type": "execute_result"
    }
   ],
   "source": [
    "titles_df.at[4847, 'title']"
   ]
  },
  {
   "cell_type": "code",
   "execution_count": 110,
   "metadata": {},
   "outputs": [
    {
     "data": {
      "text/plain": [
       "2021"
      ]
     },
     "execution_count": 110,
     "metadata": {},
     "output_type": "execute_result"
    }
   ],
   "source": [
    "titles_df.at[4847,'release_year']"
   ]
  },
  {
   "cell_type": "markdown",
   "metadata": {},
   "source": [
    "We can see Shows are the most rated ones than movies when compared with the recent 20 releases in 2021 from the dataset. And the show called ARCANE has best imdb score (i.e., 9.1) and it is released in the year 2021."
   ]
  },
  {
   "cell_type": "code",
   "execution_count": 111,
   "metadata": {},
   "outputs": [
    {
     "data": {
      "image/png": "[encoded data removed]",
      "text/plain": [
       "<Figure size 648x360 with 1 Axes>"
      ]
     },
     "metadata": {
      "needs_background": "light"
     },
     "output_type": "display_data"
    }
   ],
   "source": [
    "sns.barplot(x= 'type', y = 'runtime', data= top_rated_releases_in_2021)\n",
    "plt.title('runtime comparison between shows and movies');"
   ]
  },
  {
   "cell_type": "markdown",
   "metadata": {},
   "source": [
    "From above barplot we can say recent released movies has more run time than shows released."
   ]
  },
  {
   "cell_type": "markdown",
   "metadata": {},
   "source": [
    "Let us save and upload our work to Jovian before continuing"
   ]
  },
  {
   "cell_type": "code",
   "execution_count": 112,
   "metadata": {},
   "outputs": [],
   "source": [
    "import jovian"
   ]
  },
  {
   "cell_type": "code",
   "execution_count": 113,
   "metadata": {},
   "outputs": [
    {
     "data": {
      "application/javascript": [
       "window.require && require([\"base/js/namespace\"],function(Jupyter){Jupyter.notebook.save_checkpoint()})"
      ],
      "text/plain": [
       "<IPython.core.display.Javascript object>"
      ]
     },
     "metadata": {},
     "output_type": "display_data"
    },
    {
     "name": "stdout",
     "output_type": "stream",
     "text": [
      "[jovian] Updating notebook \"siva-muram/netflix-tv-shows-and-movies\" on https://jovian.ai\u001b[0m\n",
      "[jovian] Committed successfully! https://jovian.ai/siva-muram/netflix-tv-shows-and-movies\u001b[0m\n"
     ]
    },
    {
     "data": {
      "text/plain": [
       "'https://jovian.ai/siva-muram/netflix-tv-shows-and-movies'"
      ]
     },
     "execution_count": 113,
     "metadata": {},
     "output_type": "execute_result"
    }
   ],
   "source": [
    "jovian.commit()"
   ]
  },
  {
   "cell_type": "markdown",
   "metadata": {},
   "source": [
    "## Asking and Answering Questions\n",
    "\n",
    "In this section, we will be going through some questions followed by the explanation.\n",
    "\n"
   ]
  },
  {
   "cell_type": "markdown",
   "metadata": {},
   "source": [
    "#### Q1:  which year has most releases?(irrespective of type, it type can be either of show or a movie)"
   ]
  },
  {
   "cell_type": "markdown",
   "metadata": {},
   "source": [
    "for this question, we need to find out the maximum number of movies/shows in particular year."
   ]
  },
  {
   "cell_type": "code",
   "execution_count": 114,
   "metadata": {},
   "outputs": [
    {
     "data": {
      "text/html": [
       "<div>\n",
       "<style scoped>\n",
       "    .dataframe tbody tr th:only-of-type {\n",
       "        vertical-align: middle;\n",
       "    }\n",
       "\n",
       "    .dataframe tbody tr th {\n",
       "        vertical-align: top;\n",
       "    }\n",
       "\n",
       "    .dataframe thead th {\n",
       "        text-align: right;\n",
       "    }\n",
       "</style>\n",
       "<table border=\"1\" class=\"dataframe\">\n",
       "  <thead>\n",
       "    <tr style=\"text-align: right;\">\n",
       "      <th></th>\n",
       "      <th>year</th>\n",
       "      <th>release_year</th>\n",
       "    </tr>\n",
       "  </thead>\n",
       "  <tbody>\n",
       "    <tr>\n",
       "      <th>0</th>\n",
       "      <td>2019</td>\n",
       "      <td>848</td>\n",
       "    </tr>\n",
       "    <tr>\n",
       "      <th>1</th>\n",
       "      <td>2020</td>\n",
       "      <td>805</td>\n",
       "    </tr>\n",
       "    <tr>\n",
       "      <th>2</th>\n",
       "      <td>2018</td>\n",
       "      <td>774</td>\n",
       "    </tr>\n",
       "    <tr>\n",
       "      <th>3</th>\n",
       "      <td>2021</td>\n",
       "      <td>758</td>\n",
       "    </tr>\n",
       "    <tr>\n",
       "      <th>4</th>\n",
       "      <td>2017</td>\n",
       "      <td>580</td>\n",
       "    </tr>\n",
       "    <tr>\n",
       "      <th>...</th>\n",
       "      <td>...</td>\n",
       "      <td>...</td>\n",
       "    </tr>\n",
       "    <tr>\n",
       "      <th>55</th>\n",
       "      <td>1963</td>\n",
       "      <td>1</td>\n",
       "    </tr>\n",
       "    <tr>\n",
       "      <th>54</th>\n",
       "      <td>1961</td>\n",
       "      <td>1</td>\n",
       "    </tr>\n",
       "    <tr>\n",
       "      <th>53</th>\n",
       "      <td>1967</td>\n",
       "      <td>1</td>\n",
       "    </tr>\n",
       "    <tr>\n",
       "      <th>52</th>\n",
       "      <td>1964</td>\n",
       "      <td>1</td>\n",
       "    </tr>\n",
       "    <tr>\n",
       "      <th>66</th>\n",
       "      <td>1945</td>\n",
       "      <td>1</td>\n",
       "    </tr>\n",
       "  </tbody>\n",
       "</table>\n",
       "<p>67 rows × 2 columns</p>\n",
       "</div>"
      ],
      "text/plain": [
       "    year  release_year\n",
       "0   2019           848\n",
       "1   2020           805\n",
       "2   2018           774\n",
       "3   2021           758\n",
       "4   2017           580\n",
       "..   ...           ...\n",
       "55  1963             1\n",
       "54  1961             1\n",
       "53  1967             1\n",
       "52  1964             1\n",
       "66  1945             1\n",
       "\n",
       "[67 rows x 2 columns]"
      ]
     },
     "execution_count": 114,
     "metadata": {},
     "output_type": "execute_result"
    }
   ],
   "source": [
    "titles_year = titles_df['release_year'].value_counts().to_frame().reset_index().rename(columns={'index': 'year','year_added':'count'})\n",
    "titles_year.sort_values('release_year', ascending = False)"
   ]
  },
  {
   "cell_type": "markdown",
   "metadata": {},
   "source": [
    "Code explanation, First, we added up the number releases made per year and then we sorted it in order to get max releases in a year.\n",
    "\n",
    "Analysis on output, we can see that most number of releases were seen in the year 2019(848 releases), followed by 2020 which is followed by 2018, and etc. "
   ]
  },
  {
   "cell_type": "code",
   "execution_count": 115,
   "metadata": {},
   "outputs": [],
   "source": [
    "netflix_year2 = titles_df[['type','release_year']]\n",
    "movie_year = netflix_year2[netflix_year2['type']=='MOVIE'].release_year.value_counts().to_frame().reset_index().rename(columns={'index': 'year','year_added':'count'})\n",
    "movie_year = movie_year[movie_year.year >2008 ]\n",
    "show_year = netflix_year2[netflix_year2['type']=='SHOW'].release_year.value_counts().to_frame().reset_index().rename(columns={'index': 'year','year_added':'count'})\n",
    "show_year = show_year[show_year.year >2008 ]"
   ]
  },
  {
   "cell_type": "code",
   "execution_count": 116,
   "metadata": {},
   "outputs": [
    {
     "data": {
      "image/png": "[encoded data removed]",
      "text/plain": [
       "<Figure size 1008x576 with 1 Axes>"
      ]
     },
     "metadata": {
      "needs_background": "light"
     },
     "output_type": "display_data"
    }
   ],
   "source": [
    "fig, ax = plt.subplots(figsize=(14, 8))\n",
    "sns.lineplot(data=movie_year, x='year', y='release_year')\n",
    "sns.lineplot(data=show_year, x='year', y='release_year')\n",
    "ax.set_xticks(np.arange(2008, 2020, 1))\n",
    "plt.title(\"Total content added each year (up to 2019)\")\n",
    "plt.legend(['Movie','Show'])\n",
    "plt.ylabel(\"Releases\")\n",
    "plt.xlabel(\"Year\")\n",
    "plt.show()"
   ]
  },
  {
   "cell_type": "markdown",
   "metadata": {},
   "source": [
    "We can content being added in netflix is being increased rapidly from year 2008 to 2018. And later in 2019, there huge decrese in the releases made by netflix. The reason could be the lack of content. Due to pandemic there might be no production of new content, hence the number of releases has decreased by huge number."
   ]
  },
  {
   "cell_type": "markdown",
   "metadata": {},
   "source": [
    "#### Q2: What is the most popular show and most popular movie? "
   ]
  },
  {
   "cell_type": "markdown",
   "metadata": {},
   "source": [
    "We need to split data based on type as we were asked most populus movie and show. And then sorting based on imdb score. Here we took imdb score as base to confirm whether a movie/show is popular or not. "
   ]
  },
  {
   "cell_type": "code",
   "execution_count": 117,
   "metadata": {},
   "outputs": [],
   "source": [
    "populus_movies = titles_df[titles_df.type == 'MOVIE'][['release_year', 'title', 'imdb_score']]"
   ]
  },
  {
   "cell_type": "code",
   "execution_count": 118,
   "metadata": {},
   "outputs": [
    {
     "data": {
      "text/html": [
       "<div>\n",
       "<style scoped>\n",
       "    .dataframe tbody tr th:only-of-type {\n",
       "        vertical-align: middle;\n",
       "    }\n",
       "\n",
       "    .dataframe tbody tr th {\n",
       "        vertical-align: top;\n",
       "    }\n",
       "\n",
       "    .dataframe thead th {\n",
       "        text-align: right;\n",
       "    }\n",
       "</style>\n",
       "<table border=\"1\" class=\"dataframe\">\n",
       "  <thead>\n",
       "    <tr style=\"text-align: right;\">\n",
       "      <th></th>\n",
       "      <th>release_year</th>\n",
       "      <th>title</th>\n",
       "      <th>imdb_score</th>\n",
       "    </tr>\n",
       "  </thead>\n",
       "  <tbody>\n",
       "    <tr>\n",
       "      <th>876</th>\n",
       "      <td>2011</td>\n",
       "      <td>Chhota Bheem &amp; Krishna in Mayanagari</td>\n",
       "      <td>9.0</td>\n",
       "    </tr>\n",
       "    <tr>\n",
       "      <th>2814</th>\n",
       "      <td>2018</td>\n",
       "      <td>C/o Kancharapalem</td>\n",
       "      <td>9.0</td>\n",
       "    </tr>\n",
       "    <tr>\n",
       "      <th>25</th>\n",
       "      <td>1979</td>\n",
       "      <td>No Longer Kids</td>\n",
       "      <td>9.0</td>\n",
       "    </tr>\n",
       "    <tr>\n",
       "      <th>3352</th>\n",
       "      <td>2020</td>\n",
       "      <td>David Attenborough: A Life on Our Planet</td>\n",
       "      <td>9.0</td>\n",
       "    </tr>\n",
       "    <tr>\n",
       "      <th>108</th>\n",
       "      <td>1994</td>\n",
       "      <td>Forrest Gump</td>\n",
       "      <td>8.8</td>\n",
       "    </tr>\n",
       "    <tr>\n",
       "      <th>...</th>\n",
       "      <td>...</td>\n",
       "      <td>...</td>\n",
       "      <td>...</td>\n",
       "    </tr>\n",
       "    <tr>\n",
       "      <th>3427</th>\n",
       "      <td>2020</td>\n",
       "      <td>Showtime 1958</td>\n",
       "      <td>0.0</td>\n",
       "    </tr>\n",
       "    <tr>\n",
       "      <th>4760</th>\n",
       "      <td>2020</td>\n",
       "      <td>Rudra: Secret of the Black Moon</td>\n",
       "      <td>0.0</td>\n",
       "    </tr>\n",
       "    <tr>\n",
       "      <th>4761</th>\n",
       "      <td>2019</td>\n",
       "      <td>Ratones Paranoicos: The Band That Rocked Argen...</td>\n",
       "      <td>0.0</td>\n",
       "    </tr>\n",
       "    <tr>\n",
       "      <th>4762</th>\n",
       "      <td>2019</td>\n",
       "      <td>The American Game</td>\n",
       "      <td>0.0</td>\n",
       "    </tr>\n",
       "    <tr>\n",
       "      <th>4459</th>\n",
       "      <td>2019</td>\n",
       "      <td>Spookley and the Christmas Kittens</td>\n",
       "      <td>0.0</td>\n",
       "    </tr>\n",
       "  </tbody>\n",
       "</table>\n",
       "<p>3759 rows × 3 columns</p>\n",
       "</div>"
      ],
      "text/plain": [
       "      release_year                                              title  \\\n",
       "876           2011               Chhota Bheem & Krishna in Mayanagari   \n",
       "2814          2018                                  C/o Kancharapalem   \n",
       "25            1979                                     No Longer Kids   \n",
       "3352          2020           David Attenborough: A Life on Our Planet   \n",
       "108           1994                                       Forrest Gump   \n",
       "...            ...                                                ...   \n",
       "3427          2020                                      Showtime 1958   \n",
       "4760          2020                    Rudra: Secret of the Black Moon   \n",
       "4761          2019  Ratones Paranoicos: The Band That Rocked Argen...   \n",
       "4762          2019                                  The American Game   \n",
       "4459          2019                 Spookley and the Christmas Kittens   \n",
       "\n",
       "      imdb_score  \n",
       "876          9.0  \n",
       "2814         9.0  \n",
       "25           9.0  \n",
       "3352         9.0  \n",
       "108          8.8  \n",
       "...          ...  \n",
       "3427         0.0  \n",
       "4760         0.0  \n",
       "4761         0.0  \n",
       "4762         0.0  \n",
       "4459         0.0  \n",
       "\n",
       "[3759 rows x 3 columns]"
      ]
     },
     "execution_count": 118,
     "metadata": {},
     "output_type": "execute_result"
    }
   ],
   "source": [
    "populus_movies_sorted = populus_movies.sort_values('imdb_score', ascending = False)[['release_year', 'title', 'imdb_score']]\n",
    "populus_movies_sorted"
   ]
  },
  {
   "cell_type": "markdown",
   "metadata": {},
   "source": [
    "Most popular movie is chhota bheem&krishna in mayanagri, C/o Kancharapalem, No Longer Kids, David Attenborough: A Life on Our Planet with imdb score as 9.0 and released in years 2011, 2018, 1979, 2020 respectively."
   ]
  },
  {
   "cell_type": "code",
   "execution_count": 119,
   "metadata": {},
   "outputs": [
    {
     "data": {
      "text/html": [
       "<div>\n",
       "<style scoped>\n",
       "    .dataframe tbody tr th:only-of-type {\n",
       "        vertical-align: middle;\n",
       "    }\n",
       "\n",
       "    .dataframe tbody tr th {\n",
       "        vertical-align: top;\n",
       "    }\n",
       "\n",
       "    .dataframe thead th {\n",
       "        text-align: right;\n",
       "    }\n",
       "</style>\n",
       "<table border=\"1\" class=\"dataframe\">\n",
       "  <thead>\n",
       "    <tr style=\"text-align: right;\">\n",
       "      <th></th>\n",
       "      <th>release_year</th>\n",
       "      <th>title</th>\n",
       "      <th>imdb_score</th>\n",
       "    </tr>\n",
       "  </thead>\n",
       "  <tbody>\n",
       "    <tr>\n",
       "      <th>656</th>\n",
       "      <td>2005</td>\n",
       "      <td>Khawatir</td>\n",
       "      <td>9.6</td>\n",
       "    </tr>\n",
       "    <tr>\n",
       "      <th>2927</th>\n",
       "      <td>2018</td>\n",
       "      <td>#ABtalks</td>\n",
       "      <td>9.6</td>\n",
       "    </tr>\n",
       "    <tr>\n",
       "      <th>243</th>\n",
       "      <td>2008</td>\n",
       "      <td>Breaking Bad</td>\n",
       "      <td>9.5</td>\n",
       "    </tr>\n",
       "    <tr>\n",
       "      <th>3320</th>\n",
       "      <td>2019</td>\n",
       "      <td>Our Planet</td>\n",
       "      <td>9.3</td>\n",
       "    </tr>\n",
       "    <tr>\n",
       "      <th>259</th>\n",
       "      <td>2005</td>\n",
       "      <td>Avatar: The Last Airbender</td>\n",
       "      <td>9.3</td>\n",
       "    </tr>\n",
       "    <tr>\n",
       "      <th>...</th>\n",
       "      <td>...</td>\n",
       "      <td>...</td>\n",
       "      <td>...</td>\n",
       "    </tr>\n",
       "    <tr>\n",
       "      <th>4053</th>\n",
       "      <td>2019</td>\n",
       "      <td>Yanxi Palace: Princess Adventures</td>\n",
       "      <td>0.0</td>\n",
       "    </tr>\n",
       "    <tr>\n",
       "      <th>4052</th>\n",
       "      <td>2019</td>\n",
       "      <td>Baewatch: Parental Guidance</td>\n",
       "      <td>0.0</td>\n",
       "    </tr>\n",
       "    <tr>\n",
       "      <th>4043</th>\n",
       "      <td>2020</td>\n",
       "      <td>Spectros</td>\n",
       "      <td>0.0</td>\n",
       "    </tr>\n",
       "    <tr>\n",
       "      <th>4030</th>\n",
       "      <td>2020</td>\n",
       "      <td>The Search</td>\n",
       "      <td>0.0</td>\n",
       "    </tr>\n",
       "    <tr>\n",
       "      <th>0</th>\n",
       "      <td>1945</td>\n",
       "      <td>Five Came Back: The Reference Films</td>\n",
       "      <td>0.0</td>\n",
       "    </tr>\n",
       "  </tbody>\n",
       "</table>\n",
       "<p>2047 rows × 3 columns</p>\n",
       "</div>"
      ],
      "text/plain": [
       "      release_year                                title  imdb_score\n",
       "656           2005                             Khawatir         9.6\n",
       "2927          2018                             #ABtalks         9.6\n",
       "243           2008                         Breaking Bad         9.5\n",
       "3320          2019                           Our Planet         9.3\n",
       "259           2005           Avatar: The Last Airbender         9.3\n",
       "...            ...                                  ...         ...\n",
       "4053          2019    Yanxi Palace: Princess Adventures         0.0\n",
       "4052          2019          Baewatch: Parental Guidance         0.0\n",
       "4043          2020                             Spectros         0.0\n",
       "4030          2020                           The Search         0.0\n",
       "0             1945  Five Came Back: The Reference Films         0.0\n",
       "\n",
       "[2047 rows x 3 columns]"
      ]
     },
     "execution_count": 119,
     "metadata": {},
     "output_type": "execute_result"
    }
   ],
   "source": [
    "populus_show = titles_df[titles_df.type == 'SHOW'][['release_year', 'title', 'imdb_score']].sort_values('imdb_score', ascending = False)[['release_year', 'title', 'imdb_score']]\n",
    "populus_show"
   ]
  },
  {
   "cell_type": "markdown",
   "metadata": {},
   "source": [
    "Most popular show is Khawatir, #ABtalks\t with imdb score as 9.6 and released in the year 2005 and 2018 respectively."
   ]
  },
  {
   "cell_type": "code",
   "execution_count": 121,
   "metadata": {},
   "outputs": [
    {
     "data": {
      "image/png": "[encoded data removed]",
      "text/plain": [
       "<Figure size 648x360 with 1 Axes>"
      ]
     },
     "metadata": {
      "needs_background": "light"
     },
     "output_type": "display_data"
    }
   ],
   "source": [
    "sns.scatterplot(x = 'imdb_score', y = 'release_year', data = populus_movies_sorted, s = 20)\n",
    "plt.title('Imbd score vs release year');"
   ]
  },
  {
   "cell_type": "markdown",
   "metadata": {},
   "source": [
    "#### Q3: Comment on runtime of a movie and a show in netflix? "
   ]
  },
  {
   "cell_type": "code",
   "execution_count": 126,
   "metadata": {},
   "outputs": [
    {
     "name": "stderr",
     "output_type": "stream",
     "text": [
      "/opt/conda/lib/python3.9/site-packages/seaborn/distributions.py:2619: FutureWarning: `distplot` is a deprecated function and will be removed in a future version. Please adapt your code to use either `displot` (a figure-level function with similar flexibility) or `histplot` (an axes-level function for histograms).\n",
      "  warnings.warn(msg, FutureWarning)\n",
      "/opt/conda/lib/python3.9/site-packages/seaborn/distributions.py:2619: FutureWarning: `distplot` is a deprecated function and will be removed in a future version. Please adapt your code to use either `displot` (a figure-level function with similar flexibility) or `histplot` (an axes-level function for histograms).\n",
      "  warnings.warn(msg, FutureWarning)\n"
     ]
    },
    {
     "data": {
      "image/png": "[encoded data removed]",
      "text/plain": [
       "<Figure size 1368x360 with 2 Axes>"
      ]
     },
     "metadata": {
      "needs_background": "light"
     },
     "output_type": "display_data"
    }
   ],
   "source": [
    "fig, ax = plt.subplots(1,2, figsize=(19, 5))\n",
    "g1 = sns.distplot(movies_df.runtime, color='skyblue',ax=ax[0]);\n",
    "g1.set_xticks(np.arange(0,360,30))\n",
    "g1.set_title(\"Duration Distribution for Netflix Movies\")\n",
    "g1.set_ylabel(\"% of All Netflix Movies\")\n",
    "g1.set_xlabel(\"Duration (min)\")\n",
    "g2 = sns.distplot(shows_df.runtime, color='skyblue',ax=ax[1]);\n",
    "g1.set_xticks(np.arange(0,360,30))\n",
    "g2.set_title(\"Netflix TV Shows runtime\")\n",
    "g2.set_ylabel(\"Count\")\n",
    "g2.set_xlabel(\"duration(min)\")\n",
    "fig.show();"
   ]
  },
  {
   "cell_type": "markdown",
   "metadata": {},
   "source": [
    "Now we will look into the duration of Netflix films. We had split the dataset between movies and TV shows. Above on the left, we can see that the duration for Netflix movies closely resembles a normal distribution with the average viewing time spanning about 90 minutes which seems to make sense. Netflix shows have average viewing time as around 30 min. It can be due to shows are of generally multiple episodes and each episode might last for 30 min which is decent runtime.  "
   ]
  },
  {
   "cell_type": "markdown",
   "metadata": {},
   "source": [
    "#### Q4: comment on age certification of movie and shows?"
   ]
  },
  {
   "cell_type": "code",
   "execution_count": 127,
   "metadata": {},
   "outputs": [
    {
     "data": {
      "text/plain": [
       "array(['TV-MA', 'R', 'PG', 'TV-14', 'G', 'PG-13', 0, 'TV-PG', 'TV-Y',\n",
       "       'TV-G', 'TV-Y7', 'NC-17'], dtype=object)"
      ]
     },
     "execution_count": 127,
     "metadata": {},
     "output_type": "execute_result"
    }
   ],
   "source": [
    "order = titles_df.age_certification.unique()\n",
    "order"
   ]
  },
  {
   "cell_type": "code",
   "execution_count": 128,
   "metadata": {},
   "outputs": [
    {
     "name": "stderr",
     "output_type": "stream",
     "text": [
      "/opt/conda/lib/python3.9/site-packages/seaborn/_decorators.py:36: FutureWarning: Pass the following variable as a keyword arg: x. From version 0.12, the only valid positional argument will be `data`, and passing other arguments without an explicit keyword will result in an error or misinterpretation.\n",
      "  warnings.warn(\n"
     ]
    },
    {
     "data": {
      "image/png": "[encoded data removed]",
      "text/plain": [
       "<Figure size 1080x504 with 1 Axes>"
      ]
     },
     "metadata": {
      "needs_background": "light"
     },
     "output_type": "display_data"
    }
   ],
   "source": [
    "plt.figure(figsize=(15,7))\n",
    "g = sns.countplot(titles_df.age_certification, hue= titles_df.type, order=order, palette=\"pastel\");\n",
    "plt.title(\"Age certififcation for Movies & TV Shows\")\n",
    "plt.xlabel(\"Age certififcation\")\n",
    "plt.ylabel(\"Total Count\")\n",
    "plt.show();"
   ]
  },
  {
   "cell_type": "code",
   "execution_count": 158,
   "metadata": {},
   "outputs": [],
   "source": [
    "movies_df1 = titles_df[titles_df.type == 'MOVIE']\n",
    "shows_df1 = titles_df[titles_df.type == 'SHOW']"
   ]
  },
  {
   "cell_type": "code",
   "execution_count": 163,
   "metadata": {},
   "outputs": [
    {
     "name": "stderr",
     "output_type": "stream",
     "text": [
      "/opt/conda/lib/python3.9/site-packages/seaborn/_decorators.py:36: FutureWarning: Pass the following variable as a keyword arg: x. From version 0.12, the only valid positional argument will be `data`, and passing other arguments without an explicit keyword will result in an error or misinterpretation.\n",
      "  warnings.warn(\n",
      "/opt/conda/lib/python3.9/site-packages/seaborn/_decorators.py:36: FutureWarning: Pass the following variable as a keyword arg: x. From version 0.12, the only valid positional argument will be `data`, and passing other arguments without an explicit keyword will result in an error or misinterpretation.\n",
      "  warnings.warn(\n"
     ]
    },
    {
     "data": {
      "image/png": "[encoded data removed]",
      "text/plain": [
       "<Figure size 1368x360 with 2 Axes>"
      ]
     },
     "metadata": {
      "needs_background": "light"
     },
     "output_type": "display_data"
    }
   ],
   "source": [
    "fig, ax = plt.subplots(1,2, figsize=(19, 5))\n",
    "g1 = sns.countplot(movies_df1.age_certification, order=order,palette=\"Set2\", ax=ax[0]);\n",
    "g1.set_title(\"certification for Movies\")\n",
    "g1.set_xlabel(\"age certification\")\n",
    "g1.set_ylabel(\"Total Count\")\n",
    "g2 = sns.countplot(shows_df1.age_certification, order=order,palette=\"Set2\", ax=ax[1]);\n",
    "g2.set(yticks=np.arange(0,1600,200))\n",
    "g2.set_title(\"certification for TV Shows\")\n",
    "g2.set_xlabel(\"age certification\")\n",
    "g2.set_ylabel(\"Total Count\")\n",
    "fig.show();"
   ]
  },
  {
   "cell_type": "markdown",
   "metadata": {},
   "source": [
    "The above plots shows the comparison between age certification on movies and shows together(in same plot) and separtely(in two different plots).\n",
    "\n",
    "Initially we have considered no age certification as 0 hence we can see large number over there. We can see a larger count for  movies released by Neflix has no age certification. While it is not same with shows as there are some shows which require it. "
   ]
  },
  {
   "cell_type": "markdown",
   "metadata": {},
   "source": [
    "#### Q5: Which film has most tmdb popularity and imdb rating?"
   ]
  },
  {
   "cell_type": "code",
   "execution_count": 204,
   "metadata": {},
   "outputs": [
    {
     "data": {
      "text/html": [
       "<div>\n",
       "<style scoped>\n",
       "    .dataframe tbody tr th:only-of-type {\n",
       "        vertical-align: middle;\n",
       "    }\n",
       "\n",
       "    .dataframe tbody tr th {\n",
       "        vertical-align: top;\n",
       "    }\n",
       "\n",
       "    .dataframe thead th {\n",
       "        text-align: right;\n",
       "    }\n",
       "</style>\n",
       "<table border=\"1\" class=\"dataframe\">\n",
       "  <thead>\n",
       "    <tr style=\"text-align: right;\">\n",
       "      <th></th>\n",
       "      <th>title</th>\n",
       "      <th>type</th>\n",
       "      <th>description</th>\n",
       "      <th>release_year</th>\n",
       "      <th>age_certification</th>\n",
       "      <th>runtime</th>\n",
       "      <th>genres</th>\n",
       "      <th>production_countries</th>\n",
       "      <th>seasons</th>\n",
       "      <th>imdb_score</th>\n",
       "      <th>imdb_votes</th>\n",
       "      <th>tmdb_popularity</th>\n",
       "      <th>tmdb_score</th>\n",
       "    </tr>\n",
       "  </thead>\n",
       "  <tbody>\n",
       "    <tr>\n",
       "      <th>876</th>\n",
       "      <td>Chhota Bheem &amp; Krishna in Mayanagari</td>\n",
       "      <td>MOVIE</td>\n",
       "      <td>Bheem and his Friends are having a great time ...</td>\n",
       "      <td>2011</td>\n",
       "      <td>G</td>\n",
       "      <td>66</td>\n",
       "      <td>['animation', 'action', 'fantasy']</td>\n",
       "      <td>['IN']</td>\n",
       "      <td>0.0</td>\n",
       "      <td>9.0</td>\n",
       "      <td>5.0</td>\n",
       "      <td>0.963</td>\n",
       "      <td>5.1</td>\n",
       "    </tr>\n",
       "    <tr>\n",
       "      <th>2814</th>\n",
       "      <td>C/o Kancharapalem</td>\n",
       "      <td>MOVIE</td>\n",
       "      <td>From a schoolboy’s crush to a middle-aged bach...</td>\n",
       "      <td>2018</td>\n",
       "      <td>PG</td>\n",
       "      <td>152</td>\n",
       "      <td>['drama']</td>\n",
       "      <td>['IN']</td>\n",
       "      <td>0.0</td>\n",
       "      <td>9.0</td>\n",
       "      <td>6562.0</td>\n",
       "      <td>2.096</td>\n",
       "      <td>7.6</td>\n",
       "    </tr>\n",
       "    <tr>\n",
       "      <th>25</th>\n",
       "      <td>No Longer Kids</td>\n",
       "      <td>MOVIE</td>\n",
       "      <td>By coincidence, Ahmad discovers that his fathe...</td>\n",
       "      <td>1979</td>\n",
       "      <td>0</td>\n",
       "      <td>235</td>\n",
       "      <td>['comedy', 'drama']</td>\n",
       "      <td>['EG']</td>\n",
       "      <td>0.0</td>\n",
       "      <td>9.0</td>\n",
       "      <td>943.0</td>\n",
       "      <td>2.733</td>\n",
       "      <td>7.7</td>\n",
       "    </tr>\n",
       "    <tr>\n",
       "      <th>3352</th>\n",
       "      <td>David Attenborough: A Life on Our Planet</td>\n",
       "      <td>MOVIE</td>\n",
       "      <td>The story of life on our planet by the man who...</td>\n",
       "      <td>2020</td>\n",
       "      <td>PG</td>\n",
       "      <td>83</td>\n",
       "      <td>['documentation']</td>\n",
       "      <td>['GB']</td>\n",
       "      <td>0.0</td>\n",
       "      <td>9.0</td>\n",
       "      <td>31180.0</td>\n",
       "      <td>14.834</td>\n",
       "      <td>8.5</td>\n",
       "    </tr>\n",
       "    <tr>\n",
       "      <th>108</th>\n",
       "      <td>Forrest Gump</td>\n",
       "      <td>MOVIE</td>\n",
       "      <td>A man with a low IQ has accomplished great thi...</td>\n",
       "      <td>1994</td>\n",
       "      <td>PG-13</td>\n",
       "      <td>142</td>\n",
       "      <td>['drama', 'romance', 'comedy']</td>\n",
       "      <td>['US']</td>\n",
       "      <td>0.0</td>\n",
       "      <td>8.8</td>\n",
       "      <td>1994599.0</td>\n",
       "      <td>57.114</td>\n",
       "      <td>8.5</td>\n",
       "    </tr>\n",
       "    <tr>\n",
       "      <th>...</th>\n",
       "      <td>...</td>\n",
       "      <td>...</td>\n",
       "      <td>...</td>\n",
       "      <td>...</td>\n",
       "      <td>...</td>\n",
       "      <td>...</td>\n",
       "      <td>...</td>\n",
       "      <td>...</td>\n",
       "      <td>...</td>\n",
       "      <td>...</td>\n",
       "      <td>...</td>\n",
       "      <td>...</td>\n",
       "      <td>...</td>\n",
       "    </tr>\n",
       "    <tr>\n",
       "      <th>3427</th>\n",
       "      <td>Showtime 1958</td>\n",
       "      <td>MOVIE</td>\n",
       "      <td>The true story behind the iconic Selamat Hari ...</td>\n",
       "      <td>2020</td>\n",
       "      <td>0</td>\n",
       "      <td>109</td>\n",
       "      <td>['drama']</td>\n",
       "      <td>['MY']</td>\n",
       "      <td>0.0</td>\n",
       "      <td>0.0</td>\n",
       "      <td>0.0</td>\n",
       "      <td>3.438</td>\n",
       "      <td>0.0</td>\n",
       "    </tr>\n",
       "    <tr>\n",
       "      <th>4760</th>\n",
       "      <td>Rudra: Secret of the Black Moon</td>\n",
       "      <td>MOVIE</td>\n",
       "      <td>Kid magician Rudra sets out to save Earth from...</td>\n",
       "      <td>2020</td>\n",
       "      <td>0</td>\n",
       "      <td>87</td>\n",
       "      <td>[]</td>\n",
       "      <td>[]</td>\n",
       "      <td>0.0</td>\n",
       "      <td>0.0</td>\n",
       "      <td>0.0</td>\n",
       "      <td>0.600</td>\n",
       "      <td>0.0</td>\n",
       "    </tr>\n",
       "    <tr>\n",
       "      <th>4761</th>\n",
       "      <td>Ratones Paranoicos: The Band That Rocked Argen...</td>\n",
       "      <td>MOVIE</td>\n",
       "      <td>The irrepressible Ratones Paranoicos, Argentin...</td>\n",
       "      <td>2019</td>\n",
       "      <td>0</td>\n",
       "      <td>76</td>\n",
       "      <td>['documentation', 'music']</td>\n",
       "      <td>['AR']</td>\n",
       "      <td>0.0</td>\n",
       "      <td>0.0</td>\n",
       "      <td>0.0</td>\n",
       "      <td>2.059</td>\n",
       "      <td>0.0</td>\n",
       "    </tr>\n",
       "    <tr>\n",
       "      <th>4762</th>\n",
       "      <td>The American Game</td>\n",
       "      <td>MOVIE</td>\n",
       "      <td>In a mold of romantic comedy, a young man and ...</td>\n",
       "      <td>2019</td>\n",
       "      <td>0</td>\n",
       "      <td>92</td>\n",
       "      <td>['comedy']</td>\n",
       "      <td>['EG']</td>\n",
       "      <td>0.0</td>\n",
       "      <td>0.0</td>\n",
       "      <td>0.0</td>\n",
       "      <td>0.988</td>\n",
       "      <td>5.0</td>\n",
       "    </tr>\n",
       "    <tr>\n",
       "      <th>4459</th>\n",
       "      <td>Spookley and the Christmas Kittens</td>\n",
       "      <td>MOVIE</td>\n",
       "      <td>Spookley and Mistletoe encounter three stray k...</td>\n",
       "      <td>2019</td>\n",
       "      <td>0</td>\n",
       "      <td>44</td>\n",
       "      <td>['animation']</td>\n",
       "      <td>['US']</td>\n",
       "      <td>0.0</td>\n",
       "      <td>0.0</td>\n",
       "      <td>0.0</td>\n",
       "      <td>2.076</td>\n",
       "      <td>0.0</td>\n",
       "    </tr>\n",
       "  </tbody>\n",
       "</table>\n",
       "<p>3759 rows × 13 columns</p>\n",
       "</div>"
      ],
      "text/plain": [
       "                                                  title   type  \\\n",
       "876                Chhota Bheem & Krishna in Mayanagari  MOVIE   \n",
       "2814                                  C/o Kancharapalem  MOVIE   \n",
       "25                                       No Longer Kids  MOVIE   \n",
       "3352           David Attenborough: A Life on Our Planet  MOVIE   \n",
       "108                                        Forrest Gump  MOVIE   \n",
       "...                                                 ...    ...   \n",
       "3427                                      Showtime 1958  MOVIE   \n",
       "4760                    Rudra: Secret of the Black Moon  MOVIE   \n",
       "4761  Ratones Paranoicos: The Band That Rocked Argen...  MOVIE   \n",
       "4762                                  The American Game  MOVIE   \n",
       "4459                 Spookley and the Christmas Kittens  MOVIE   \n",
       "\n",
       "                                            description  release_year  \\\n",
       "876   Bheem and his Friends are having a great time ...          2011   \n",
       "2814  From a schoolboy’s crush to a middle-aged bach...          2018   \n",
       "25    By coincidence, Ahmad discovers that his fathe...          1979   \n",
       "3352  The story of life on our planet by the man who...          2020   \n",
       "108   A man with a low IQ has accomplished great thi...          1994   \n",
       "...                                                 ...           ...   \n",
       "3427  The true story behind the iconic Selamat Hari ...          2020   \n",
       "4760  Kid magician Rudra sets out to save Earth from...          2020   \n",
       "4761  The irrepressible Ratones Paranoicos, Argentin...          2019   \n",
       "4762  In a mold of romantic comedy, a young man and ...          2019   \n",
       "4459  Spookley and Mistletoe encounter three stray k...          2019   \n",
       "\n",
       "     age_certification  runtime                              genres  \\\n",
       "876                  G       66  ['animation', 'action', 'fantasy']   \n",
       "2814                PG      152                           ['drama']   \n",
       "25                   0      235                 ['comedy', 'drama']   \n",
       "3352                PG       83                   ['documentation']   \n",
       "108              PG-13      142      ['drama', 'romance', 'comedy']   \n",
       "...                ...      ...                                 ...   \n",
       "3427                 0      109                           ['drama']   \n",
       "4760                 0       87                                  []   \n",
       "4761                 0       76          ['documentation', 'music']   \n",
       "4762                 0       92                          ['comedy']   \n",
       "4459                 0       44                       ['animation']   \n",
       "\n",
       "     production_countries  seasons  imdb_score  imdb_votes  tmdb_popularity  \\\n",
       "876                ['IN']      0.0         9.0         5.0            0.963   \n",
       "2814               ['IN']      0.0         9.0      6562.0            2.096   \n",
       "25                 ['EG']      0.0         9.0       943.0            2.733   \n",
       "3352               ['GB']      0.0         9.0     31180.0           14.834   \n",
       "108                ['US']      0.0         8.8   1994599.0           57.114   \n",
       "...                   ...      ...         ...         ...              ...   \n",
       "3427               ['MY']      0.0         0.0         0.0            3.438   \n",
       "4760                   []      0.0         0.0         0.0            0.600   \n",
       "4761               ['AR']      0.0         0.0         0.0            2.059   \n",
       "4762               ['EG']      0.0         0.0         0.0            0.988   \n",
       "4459               ['US']      0.0         0.0         0.0            2.076   \n",
       "\n",
       "      tmdb_score  \n",
       "876          5.1  \n",
       "2814         7.6  \n",
       "25           7.7  \n",
       "3352         8.5  \n",
       "108          8.5  \n",
       "...          ...  \n",
       "3427         0.0  \n",
       "4760         0.0  \n",
       "4761         0.0  \n",
       "4762         5.0  \n",
       "4459         0.0  \n",
       "\n",
       "[3759 rows x 13 columns]"
      ]
     },
     "execution_count": 204,
     "metadata": {},
     "output_type": "execute_result"
    }
   ],
   "source": [
    "netflix_df = titles_df[titles_df.type=='MOVIE'].sort_values('imdb_score', ascending = False)\n",
    "netflix_df"
   ]
  },
  {
   "cell_type": "code",
   "execution_count": 130,
   "metadata": {},
   "outputs": [
    {
     "data": {
      "text/plain": [
       "Text(0.5, 1.0, 'Imdb score vs Tmdb popularity of movie and shows')"
      ]
     },
     "execution_count": 130,
     "metadata": {},
     "output_type": "execute_result"
    },
    {
     "data": {
      "image/png": "[encoded data removed]",
      "text/plain": [
       "<Figure size 648x360 with 1 Axes>"
      ]
     },
     "metadata": {
      "needs_background": "light"
     },
     "output_type": "display_data"
    }
   ],
   "source": [
    "sns.scatterplot(x = titles_df.imdb_score, y = titles_df.tmdb_popularity, s =15);\n",
    "plt.title('Imdb score vs Tmdb popularity of movie and shows')"
   ]
  },
  {
   "cell_type": "code",
   "execution_count": 135,
   "metadata": {},
   "outputs": [
    {
     "data": {
      "text/html": [
       "<div>\n",
       "<style scoped>\n",
       "    .dataframe tbody tr th:only-of-type {\n",
       "        vertical-align: middle;\n",
       "    }\n",
       "\n",
       "    .dataframe tbody tr th {\n",
       "        vertical-align: top;\n",
       "    }\n",
       "\n",
       "    .dataframe thead th {\n",
       "        text-align: right;\n",
       "    }\n",
       "</style>\n",
       "<table border=\"1\" class=\"dataframe\">\n",
       "  <thead>\n",
       "    <tr style=\"text-align: right;\">\n",
       "      <th></th>\n",
       "      <th>title</th>\n",
       "      <th>type</th>\n",
       "      <th>description</th>\n",
       "      <th>release_year</th>\n",
       "      <th>age_certification</th>\n",
       "      <th>runtime</th>\n",
       "      <th>genres</th>\n",
       "      <th>production_countries</th>\n",
       "      <th>seasons</th>\n",
       "      <th>imdb_score</th>\n",
       "      <th>imdb_votes</th>\n",
       "      <th>tmdb_popularity</th>\n",
       "      <th>tmdb_score</th>\n",
       "    </tr>\n",
       "  </thead>\n",
       "  <tbody>\n",
       "    <tr>\n",
       "      <th>3081</th>\n",
       "      <td>The Lost Café</td>\n",
       "      <td>MOVIE</td>\n",
       "      <td>An uplifting story about a girl's decision to ...</td>\n",
       "      <td>2018</td>\n",
       "      <td>0</td>\n",
       "      <td>76</td>\n",
       "      <td>['drama', 'comedy']</td>\n",
       "      <td>['NO', 'NG']</td>\n",
       "      <td>0.0</td>\n",
       "      <td>6.4</td>\n",
       "      <td>24.0</td>\n",
       "      <td>1.400</td>\n",
       "      <td>5.0</td>\n",
       "    </tr>\n",
       "    <tr>\n",
       "      <th>828</th>\n",
       "      <td>Kyaa Super Kool Hain Hum</td>\n",
       "      <td>MOVIE</td>\n",
       "      <td>An aspiring actor and a struggling DJ team up ...</td>\n",
       "      <td>2012</td>\n",
       "      <td>R</td>\n",
       "      <td>137</td>\n",
       "      <td>['drama', 'comedy']</td>\n",
       "      <td>['IN']</td>\n",
       "      <td>0.0</td>\n",
       "      <td>5.0</td>\n",
       "      <td>3885.0</td>\n",
       "      <td>3.402</td>\n",
       "      <td>5.1</td>\n",
       "    </tr>\n",
       "    <tr>\n",
       "      <th>298</th>\n",
       "      <td>Rambo</td>\n",
       "      <td>MOVIE</td>\n",
       "      <td>When governments fail to act on behalf of capt...</td>\n",
       "      <td>2008</td>\n",
       "      <td>R</td>\n",
       "      <td>92</td>\n",
       "      <td>['thriller', 'action', 'war', 'european']</td>\n",
       "      <td>['US', 'DE']</td>\n",
       "      <td>0.0</td>\n",
       "      <td>7.0</td>\n",
       "      <td>228799.0</td>\n",
       "      <td>58.435</td>\n",
       "      <td>6.6</td>\n",
       "    </tr>\n",
       "    <tr>\n",
       "      <th>3831</th>\n",
       "      <td>Ultras</td>\n",
       "      <td>MOVIE</td>\n",
       "      <td>An aging soccer fanatic faces down the reality...</td>\n",
       "      <td>2020</td>\n",
       "      <td>0</td>\n",
       "      <td>109</td>\n",
       "      <td>['drama']</td>\n",
       "      <td>['IT']</td>\n",
       "      <td>0.0</td>\n",
       "      <td>6.2</td>\n",
       "      <td>4831.0</td>\n",
       "      <td>9.603</td>\n",
       "      <td>6.1</td>\n",
       "    </tr>\n",
       "    <tr>\n",
       "      <th>5571</th>\n",
       "      <td>Carolin Kebekus: The Last Christmas Special</td>\n",
       "      <td>MOVIE</td>\n",
       "      <td>One of the biggest comedians in Germany, Carol...</td>\n",
       "      <td>2021</td>\n",
       "      <td>0</td>\n",
       "      <td>66</td>\n",
       "      <td>['comedy']</td>\n",
       "      <td>[]</td>\n",
       "      <td>0.0</td>\n",
       "      <td>4.7</td>\n",
       "      <td>97.0</td>\n",
       "      <td>2.394</td>\n",
       "      <td>5.3</td>\n",
       "    </tr>\n",
       "    <tr>\n",
       "      <th>4868</th>\n",
       "      <td>The Lost Daughter</td>\n",
       "      <td>MOVIE</td>\n",
       "      <td>A woman's seaside vacation takes a dark turn w...</td>\n",
       "      <td>2021</td>\n",
       "      <td>R</td>\n",
       "      <td>122</td>\n",
       "      <td>['drama']</td>\n",
       "      <td>['GB', 'US', 'GR']</td>\n",
       "      <td>0.0</td>\n",
       "      <td>6.7</td>\n",
       "      <td>56650.0</td>\n",
       "      <td>46.069</td>\n",
       "      <td>6.6</td>\n",
       "    </tr>\n",
       "    <tr>\n",
       "      <th>3595</th>\n",
       "      <td>Making The Witcher</td>\n",
       "      <td>MOVIE</td>\n",
       "      <td>Journey into the extraordinary world of \"The W...</td>\n",
       "      <td>2020</td>\n",
       "      <td>PG-13</td>\n",
       "      <td>32</td>\n",
       "      <td>['documentation']</td>\n",
       "      <td>['GB']</td>\n",
       "      <td>0.0</td>\n",
       "      <td>6.8</td>\n",
       "      <td>442.0</td>\n",
       "      <td>20.910</td>\n",
       "      <td>7.7</td>\n",
       "    </tr>\n",
       "    <tr>\n",
       "      <th>993</th>\n",
       "      <td>The November Man</td>\n",
       "      <td>MOVIE</td>\n",
       "      <td>An ex-CIA operative is brought back in on a ve...</td>\n",
       "      <td>2014</td>\n",
       "      <td>R</td>\n",
       "      <td>108</td>\n",
       "      <td>['crime', 'action', 'thriller']</td>\n",
       "      <td>['GB', 'US']</td>\n",
       "      <td>0.0</td>\n",
       "      <td>6.3</td>\n",
       "      <td>67243.0</td>\n",
       "      <td>14.820</td>\n",
       "      <td>6.1</td>\n",
       "    </tr>\n",
       "    <tr>\n",
       "      <th>1978</th>\n",
       "      <td>A Futile and Stupid Gesture</td>\n",
       "      <td>MOVIE</td>\n",
       "      <td>The National Lampoon name became globally reco...</td>\n",
       "      <td>2018</td>\n",
       "      <td>0</td>\n",
       "      <td>101</td>\n",
       "      <td>['comedy']</td>\n",
       "      <td>['US']</td>\n",
       "      <td>0.0</td>\n",
       "      <td>6.7</td>\n",
       "      <td>15750.0</td>\n",
       "      <td>12.272</td>\n",
       "      <td>6.5</td>\n",
       "    </tr>\n",
       "    <tr>\n",
       "      <th>3015</th>\n",
       "      <td>Son Of Adam</td>\n",
       "      <td>MOVIE</td>\n",
       "      <td>To escape conviction on criminal charges, a bu...</td>\n",
       "      <td>2018</td>\n",
       "      <td>0</td>\n",
       "      <td>109</td>\n",
       "      <td>['thriller']</td>\n",
       "      <td>['EG']</td>\n",
       "      <td>0.0</td>\n",
       "      <td>0.0</td>\n",
       "      <td>0.0</td>\n",
       "      <td>1.459</td>\n",
       "      <td>6.0</td>\n",
       "    </tr>\n",
       "  </tbody>\n",
       "</table>\n",
       "</div>"
      ],
      "text/plain": [
       "                                            title   type  \\\n",
       "3081                                The Lost Café  MOVIE   \n",
       "828                      Kyaa Super Kool Hain Hum  MOVIE   \n",
       "298                                         Rambo  MOVIE   \n",
       "3831                                       Ultras  MOVIE   \n",
       "5571  Carolin Kebekus: The Last Christmas Special  MOVIE   \n",
       "4868                            The Lost Daughter  MOVIE   \n",
       "3595                           Making The Witcher  MOVIE   \n",
       "993                              The November Man  MOVIE   \n",
       "1978                  A Futile and Stupid Gesture  MOVIE   \n",
       "3015                                  Son Of Adam  MOVIE   \n",
       "\n",
       "                                            description  release_year  \\\n",
       "3081  An uplifting story about a girl's decision to ...          2018   \n",
       "828   An aspiring actor and a struggling DJ team up ...          2012   \n",
       "298   When governments fail to act on behalf of capt...          2008   \n",
       "3831  An aging soccer fanatic faces down the reality...          2020   \n",
       "5571  One of the biggest comedians in Germany, Carol...          2021   \n",
       "4868  A woman's seaside vacation takes a dark turn w...          2021   \n",
       "3595  Journey into the extraordinary world of \"The W...          2020   \n",
       "993   An ex-CIA operative is brought back in on a ve...          2014   \n",
       "1978  The National Lampoon name became globally reco...          2018   \n",
       "3015  To escape conviction on criminal charges, a bu...          2018   \n",
       "\n",
       "     age_certification  runtime                                     genres  \\\n",
       "3081                 0       76                        ['drama', 'comedy']   \n",
       "828                  R      137                        ['drama', 'comedy']   \n",
       "298                  R       92  ['thriller', 'action', 'war', 'european']   \n",
       "3831                 0      109                                  ['drama']   \n",
       "5571                 0       66                                 ['comedy']   \n",
       "4868                 R      122                                  ['drama']   \n",
       "3595             PG-13       32                          ['documentation']   \n",
       "993                  R      108            ['crime', 'action', 'thriller']   \n",
       "1978                 0      101                                 ['comedy']   \n",
       "3015                 0      109                               ['thriller']   \n",
       "\n",
       "     production_countries  seasons  imdb_score  imdb_votes  tmdb_popularity  \\\n",
       "3081         ['NO', 'NG']      0.0         6.4        24.0            1.400   \n",
       "828                ['IN']      0.0         5.0      3885.0            3.402   \n",
       "298          ['US', 'DE']      0.0         7.0    228799.0           58.435   \n",
       "3831               ['IT']      0.0         6.2      4831.0            9.603   \n",
       "5571                   []      0.0         4.7        97.0            2.394   \n",
       "4868   ['GB', 'US', 'GR']      0.0         6.7     56650.0           46.069   \n",
       "3595               ['GB']      0.0         6.8       442.0           20.910   \n",
       "993          ['GB', 'US']      0.0         6.3     67243.0           14.820   \n",
       "1978               ['US']      0.0         6.7     15750.0           12.272   \n",
       "3015               ['EG']      0.0         0.0         0.0            1.459   \n",
       "\n",
       "      tmdb_score  \n",
       "3081         5.0  \n",
       "828          5.1  \n",
       "298          6.6  \n",
       "3831         6.1  \n",
       "5571         5.3  \n",
       "4868         6.6  \n",
       "3595         7.7  \n",
       "993          6.1  \n",
       "1978         6.5  \n",
       "3015         6.0  "
      ]
     },
     "execution_count": 135,
     "metadata": {},
     "output_type": "execute_result"
    }
   ],
   "source": [
    "movies_df"
   ]
  },
  {
   "cell_type": "code",
   "execution_count": 141,
   "metadata": {},
   "outputs": [
    {
     "data": {
      "image/png": "[encoded data removed]",
      "text/plain": [
       "<Figure size 1368x360 with 2 Axes>"
      ]
     },
     "metadata": {
      "needs_background": "light"
     },
     "output_type": "display_data"
    }
   ],
   "source": [
    "fig, ax = plt.subplots(1,2, figsize=(19, 5))\n",
    "p1 = sns.barplot(x = movies_df.imdb_score, y = movies_df.tmdb_popularity, ax = ax[0]);\n",
    "p1.set_title('Imdb score vs Tmdb popularity of movies')\n",
    "p2 = sns.barplot(x = shows_df.imdb_score, y = shows_df.tmdb_popularity, ax= ax[1]);\n",
    "p2.set_title('Imdb score vs Tmdb popularity of shows')\n",
    "fig.show();"
   ]
  },
  {
   "cell_type": "markdown",
   "metadata": {},
   "source": [
    "We can see a large crowd from the imdb score of 6 to 8 and tmdb popularity being around 0 to 100. There are films with both both values as high but they are very few in number as it can be seen from the plot. We can say that imdb score has nothing to do with tmdb popularity viz, there is no proper relation between as it is true for the most of the cases.\n",
    "\n",
    "Below figure showing individual plot of movies and shows. "
   ]
  },
  {
   "cell_type": "markdown",
   "metadata": {},
   "source": [
    "Let us save and upload our work to Jovian before continuing."
   ]
  },
  {
   "cell_type": "code",
   "execution_count": 142,
   "metadata": {},
   "outputs": [],
   "source": [
    "import jovian"
   ]
  },
  {
   "cell_type": "code",
   "execution_count": 143,
   "metadata": {},
   "outputs": [
    {
     "data": {
      "application/javascript": [
       "window.require && require([\"base/js/namespace\"],function(Jupyter){Jupyter.notebook.save_checkpoint()})"
      ],
      "text/plain": [
       "<IPython.core.display.Javascript object>"
      ]
     },
     "metadata": {},
     "output_type": "display_data"
    },
    {
     "name": "stdout",
     "output_type": "stream",
     "text": [
      "[jovian] Updating notebook \"siva-muram/netflix-tv-shows-and-movies\" on https://jovian.ai\u001b[0m\n",
      "[jovian] Committed successfully! https://jovian.ai/siva-muram/netflix-tv-shows-and-movies\u001b[0m\n"
     ]
    },
    {
     "data": {
      "text/plain": [
       "'https://jovian.ai/siva-muram/netflix-tv-shows-and-movies'"
      ]
     },
     "execution_count": 143,
     "metadata": {},
     "output_type": "execute_result"
    }
   ],
   "source": [
    "jovian.commit()"
   ]
  },
  {
   "cell_type": "markdown",
   "metadata": {},
   "source": [
    "## Inferences and Conclusion\n",
    "\n",
    "It's clear that Netflix has grown over the years. We can see it from the data that the company took certain approaches in their marketing strategy to break into new markets around the world. Netflix had about 158 million subscribers worldwide with 60 million from the US and almost 98 million internationally. Netflix's original subscriber base was based solely in the United States following its IPO. A large part of its success was due to the decision to expand to international markets. The popular markets prioritizes what content the company will release. In this case, we can see that a good amount of international movies and TV shows were added over the years as part of Netflix's global expansion. More over there is continues repetition of genres and people are happy with that, as there are many variations shown even with the most common genre. "
   ]
  },
  {
   "cell_type": "code",
   "execution_count": 147,
   "metadata": {},
   "outputs": [],
   "source": [
    "import jovian"
   ]
  },
  {
   "cell_type": "code",
   "execution_count": 148,
   "metadata": {},
   "outputs": [
    {
     "data": {
      "application/javascript": [
       "window.require && require([\"base/js/namespace\"],function(Jupyter){Jupyter.notebook.save_checkpoint()})"
      ],
      "text/plain": [
       "<IPython.core.display.Javascript object>"
      ]
     },
     "metadata": {},
     "output_type": "display_data"
    },
    {
     "name": "stdout",
     "output_type": "stream",
     "text": [
      "[jovian] Updating notebook \"siva-muram/netflix-tv-shows-and-movies\" on https://jovian.ai\u001b[0m\n",
      "[jovian] Committed successfully! https://jovian.ai/siva-muram/netflix-tv-shows-and-movies\u001b[0m\n"
     ]
    },
    {
     "data": {
      "text/plain": [
       "'https://jovian.ai/siva-muram/netflix-tv-shows-and-movies'"
      ]
     },
     "execution_count": 148,
     "metadata": {},
     "output_type": "execute_result"
    }
   ],
   "source": [
    "jovian.commit()"
   ]
  },
  {
   "cell_type": "markdown",
   "metadata": {},
   "source": [
    "## References and future works:\n",
    "\n",
    " 1)https://www.kaggle.com/shivamb/netflix-shows\n",
    " \n",
    " 2)https://www.geeksforgeeks.org/python-programming-language/\n",
    " \n",
    " 3)https://en.wikipedia.org/wiki/Netflix\n",
    " \n",
    " 4)Pandas user guide: https://pandas.pydata.org/docs/user_guide/index.html\n",
    " \n",
    " 5)Matplotlib user guide: https://matplotlib.org/3.3.1/users/index.html\n",
    "\n",
    " 6)Seaborn user guide & tutorial: https://seaborn.pydata.org/tutorial.html\n",
    " \n",
    " 7)Anlysing based ont "
   ]
  },
  {
   "cell_type": "code",
   "execution_count": 208,
   "metadata": {},
   "outputs": [],
   "source": [
    "import jovian"
   ]
  },
  {
   "cell_type": "code",
   "execution_count": 209,
   "metadata": {
    "scrolled": true
   },
   "outputs": [
    {
     "data": {
      "application/javascript": [
       "window.require && require([\"base/js/namespace\"],function(Jupyter){Jupyter.notebook.save_checkpoint()})"
      ],
      "text/plain": [
       "<IPython.core.display.Javascript object>"
      ]
     },
     "metadata": {},
     "output_type": "display_data"
    },
    {
     "name": "stdout",
     "output_type": "stream",
     "text": [
      "[jovian] Updating notebook \"siva-muram/netflix-tv-shows-and-movies\" on https://jovian.ai\u001b[0m\n",
      "[jovian] Committed successfully! https://jovian.ai/siva-muram/netflix-tv-shows-and-movies\u001b[0m\n"
     ]
    },
    {
     "data": {
      "text/plain": [
       "'https://jovian.ai/siva-muram/netflix-tv-shows-and-movies'"
      ]
     },
     "execution_count": 209,
     "metadata": {},
     "output_type": "execute_result"
    }
   ],
   "source": [
    "jovian.commit()"
   ]
  },
  {
   "cell_type": "code",
   "execution_count": null,
   "metadata": {},
   "outputs": [],
   "source": []
  }
 ],
 "metadata": {
  "kernelspec": {
   "display_name": "Python 3 (ipykernel)",
   "language": "python",
   "name": "python3"
  },
  "language_info": {
   "codemirror_mode": {
    "name": "ipython",
    "version": 3
   },
   "file_extension": ".py",
   "mimetype": "text/x-python",
   "name": "python",
   "nbconvert_exporter": "python",
   "pygments_lexer": "ipython3",
   "version": "3.9.6"
  }
 },
 "nbformat": 4,
 "nbformat_minor": 4
}
